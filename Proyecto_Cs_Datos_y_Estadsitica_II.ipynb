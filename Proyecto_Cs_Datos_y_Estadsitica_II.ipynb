{
  "nbformat": 4,
  "nbformat_minor": 0,
  "metadata": {
    "colab": {
      "provenance": [],
      "include_colab_link": true
    },
    "kernelspec": {
      "name": "python3",
      "display_name": "Python 3"
    },
    "language_info": {
      "name": "python"
    }
  },
  "cells": [
    {
      "cell_type": "markdown",
      "metadata": {
        "id": "view-in-github",
        "colab_type": "text"
      },
      "source": [
        "<a href=\"https://colab.research.google.com/github/fede-cordoba-Ispc/Cs_Datos_II-Estadistica_II/blob/main/Proyecto_Cs_Datos_y_Estadsitica_II.ipynb\" target=\"_parent\"><img src=\"https://colab.research.google.com/assets/colab-badge.svg\" alt=\"Open In Colab\"/></a>"
      ]
    },
    {
      "cell_type": "markdown",
      "source": [
        "# Nos connectamos al Dataset"
      ],
      "metadata": {
        "id": "ZSaV-tZoKC_L"
      }
    },
    {
      "cell_type": "code",
      "execution_count": null,
      "metadata": {
        "colab": {
          "base_uri": "https://localhost:8080/",
          "height": 586
        },
        "id": "985z_Mvd5p_M",
        "outputId": "097fd267-3941-4a26-c0e0-3c94c8211205"
      },
      "outputs": [
        {
          "output_type": "execute_result",
          "data": {
            "text/plain": [
              "   ID               Name  Age  Gender            Location School_Grade  \\\n",
              "0   1    Shannon Francis   13  Female          Hansonfort          9th   \n",
              "1   2    Scott Rodriguez   17  Female        Theodorefort          7th   \n",
              "2   3        Adrian Knox   13   Other         Lindseystad         11th   \n",
              "3   4  Brittany Hamilton   18  Female        West Anthony         12th   \n",
              "4   5       Steven Smith   14   Other    Port Lindsaystad          9th   \n",
              "5   6         Mary Adams   13  Female  East Angelachester         10th   \n",
              "6   7       Hailey Moses   16    Male       North Jeffrey         11th   \n",
              "7   8  Veronica Marshall   13   Other        Jenniferport         10th   \n",
              "8   9       Edward Avila   13    Male             Leebury          8th   \n",
              "9  10       James Carter   18   Other         Prestonview         11th   \n",
              "\n",
              "   Daily_Usage_Hours  Sleep_Hours  Academic_Performance  Social_Interactions  \\\n",
              "0                4.0          6.1                    78                    5   \n",
              "1                5.5          6.5                    70                    5   \n",
              "2                5.8          5.5                    93                    8   \n",
              "3                3.1          3.9                    78                    8   \n",
              "4                2.5          6.7                    56                    4   \n",
              "5                3.9          6.3                    89                    3   \n",
              "6                6.3          6.7                    89                    3   \n",
              "7                5.1          6.1                    70                    2   \n",
              "8                3.0          9.1                    79                    0   \n",
              "9                3.9          5.8                    89                    8   \n",
              "\n",
              "   ...  Screen_Time_Before_Bed  Phone_Checks_Per_Day  Apps_Used_Daily  \\\n",
              "0  ...                     1.4                    86               19   \n",
              "1  ...                     0.9                    96                9   \n",
              "2  ...                     0.5                   137                8   \n",
              "3  ...                     1.4                   128                7   \n",
              "4  ...                     1.0                    96               20   \n",
              "5  ...                     1.1                   135                8   \n",
              "6  ...                     0.8                   129                9   \n",
              "7  ...                     1.0                    34                7   \n",
              "8  ...                     0.9                    70               13   \n",
              "9  ...                     0.9                   121               13   \n",
              "\n",
              "   Time_on_Social_Media  Time_on_Gaming  Time_on_Education  \\\n",
              "0                   3.6             1.7                1.2   \n",
              "1                   1.1             4.0                1.8   \n",
              "2                   0.3             1.5                0.4   \n",
              "3                   3.1             1.6                0.8   \n",
              "4                   2.6             0.9                1.1   \n",
              "5                   3.8             0.0                1.4   \n",
              "6                   1.8             2.7                1.0   \n",
              "7                   2.3             1.6                0.5   \n",
              "8                   2.7             2.2                1.3   \n",
              "9                   2.7             0.4                1.0   \n",
              "\n",
              "   Phone_Usage_Purpose  Family_Communication  Weekend_Usage_Hours  \\\n",
              "0             Browsing                     4                  8.7   \n",
              "1             Browsing                     2                  5.3   \n",
              "2            Education                     6                  5.7   \n",
              "3         Social Media                     8                  3.0   \n",
              "4               Gaming                    10                  3.7   \n",
              "5         Social Media                     7                  6.0   \n",
              "6            Education                     7                  7.8   \n",
              "7             Browsing                     9                  8.0   \n",
              "8            Education                    10                  9.1   \n",
              "9                Other                     9                  2.9   \n",
              "\n",
              "   Addiction_Level  \n",
              "0             10.0  \n",
              "1             10.0  \n",
              "2              9.2  \n",
              "3              9.8  \n",
              "4              8.6  \n",
              "5              8.8  \n",
              "6             10.0  \n",
              "7              8.0  \n",
              "8              7.3  \n",
              "9              9.1  \n",
              "\n",
              "[10 rows x 25 columns]"
            ],
            "text/html": [
              "\n",
              "  <div id=\"df-811fe594-297f-4537-b3eb-5fd862dfb714\" class=\"colab-df-container\">\n",
              "    <div>\n",
              "<style scoped>\n",
              "    .dataframe tbody tr th:only-of-type {\n",
              "        vertical-align: middle;\n",
              "    }\n",
              "\n",
              "    .dataframe tbody tr th {\n",
              "        vertical-align: top;\n",
              "    }\n",
              "\n",
              "    .dataframe thead th {\n",
              "        text-align: right;\n",
              "    }\n",
              "</style>\n",
              "<table border=\"1\" class=\"dataframe\">\n",
              "  <thead>\n",
              "    <tr style=\"text-align: right;\">\n",
              "      <th></th>\n",
              "      <th>ID</th>\n",
              "      <th>Name</th>\n",
              "      <th>Age</th>\n",
              "      <th>Gender</th>\n",
              "      <th>Location</th>\n",
              "      <th>School_Grade</th>\n",
              "      <th>Daily_Usage_Hours</th>\n",
              "      <th>Sleep_Hours</th>\n",
              "      <th>Academic_Performance</th>\n",
              "      <th>Social_Interactions</th>\n",
              "      <th>...</th>\n",
              "      <th>Screen_Time_Before_Bed</th>\n",
              "      <th>Phone_Checks_Per_Day</th>\n",
              "      <th>Apps_Used_Daily</th>\n",
              "      <th>Time_on_Social_Media</th>\n",
              "      <th>Time_on_Gaming</th>\n",
              "      <th>Time_on_Education</th>\n",
              "      <th>Phone_Usage_Purpose</th>\n",
              "      <th>Family_Communication</th>\n",
              "      <th>Weekend_Usage_Hours</th>\n",
              "      <th>Addiction_Level</th>\n",
              "    </tr>\n",
              "  </thead>\n",
              "  <tbody>\n",
              "    <tr>\n",
              "      <th>0</th>\n",
              "      <td>1</td>\n",
              "      <td>Shannon Francis</td>\n",
              "      <td>13</td>\n",
              "      <td>Female</td>\n",
              "      <td>Hansonfort</td>\n",
              "      <td>9th</td>\n",
              "      <td>4.0</td>\n",
              "      <td>6.1</td>\n",
              "      <td>78</td>\n",
              "      <td>5</td>\n",
              "      <td>...</td>\n",
              "      <td>1.4</td>\n",
              "      <td>86</td>\n",
              "      <td>19</td>\n",
              "      <td>3.6</td>\n",
              "      <td>1.7</td>\n",
              "      <td>1.2</td>\n",
              "      <td>Browsing</td>\n",
              "      <td>4</td>\n",
              "      <td>8.7</td>\n",
              "      <td>10.0</td>\n",
              "    </tr>\n",
              "    <tr>\n",
              "      <th>1</th>\n",
              "      <td>2</td>\n",
              "      <td>Scott Rodriguez</td>\n",
              "      <td>17</td>\n",
              "      <td>Female</td>\n",
              "      <td>Theodorefort</td>\n",
              "      <td>7th</td>\n",
              "      <td>5.5</td>\n",
              "      <td>6.5</td>\n",
              "      <td>70</td>\n",
              "      <td>5</td>\n",
              "      <td>...</td>\n",
              "      <td>0.9</td>\n",
              "      <td>96</td>\n",
              "      <td>9</td>\n",
              "      <td>1.1</td>\n",
              "      <td>4.0</td>\n",
              "      <td>1.8</td>\n",
              "      <td>Browsing</td>\n",
              "      <td>2</td>\n",
              "      <td>5.3</td>\n",
              "      <td>10.0</td>\n",
              "    </tr>\n",
              "    <tr>\n",
              "      <th>2</th>\n",
              "      <td>3</td>\n",
              "      <td>Adrian Knox</td>\n",
              "      <td>13</td>\n",
              "      <td>Other</td>\n",
              "      <td>Lindseystad</td>\n",
              "      <td>11th</td>\n",
              "      <td>5.8</td>\n",
              "      <td>5.5</td>\n",
              "      <td>93</td>\n",
              "      <td>8</td>\n",
              "      <td>...</td>\n",
              "      <td>0.5</td>\n",
              "      <td>137</td>\n",
              "      <td>8</td>\n",
              "      <td>0.3</td>\n",
              "      <td>1.5</td>\n",
              "      <td>0.4</td>\n",
              "      <td>Education</td>\n",
              "      <td>6</td>\n",
              "      <td>5.7</td>\n",
              "      <td>9.2</td>\n",
              "    </tr>\n",
              "    <tr>\n",
              "      <th>3</th>\n",
              "      <td>4</td>\n",
              "      <td>Brittany Hamilton</td>\n",
              "      <td>18</td>\n",
              "      <td>Female</td>\n",
              "      <td>West Anthony</td>\n",
              "      <td>12th</td>\n",
              "      <td>3.1</td>\n",
              "      <td>3.9</td>\n",
              "      <td>78</td>\n",
              "      <td>8</td>\n",
              "      <td>...</td>\n",
              "      <td>1.4</td>\n",
              "      <td>128</td>\n",
              "      <td>7</td>\n",
              "      <td>3.1</td>\n",
              "      <td>1.6</td>\n",
              "      <td>0.8</td>\n",
              "      <td>Social Media</td>\n",
              "      <td>8</td>\n",
              "      <td>3.0</td>\n",
              "      <td>9.8</td>\n",
              "    </tr>\n",
              "    <tr>\n",
              "      <th>4</th>\n",
              "      <td>5</td>\n",
              "      <td>Steven Smith</td>\n",
              "      <td>14</td>\n",
              "      <td>Other</td>\n",
              "      <td>Port Lindsaystad</td>\n",
              "      <td>9th</td>\n",
              "      <td>2.5</td>\n",
              "      <td>6.7</td>\n",
              "      <td>56</td>\n",
              "      <td>4</td>\n",
              "      <td>...</td>\n",
              "      <td>1.0</td>\n",
              "      <td>96</td>\n",
              "      <td>20</td>\n",
              "      <td>2.6</td>\n",
              "      <td>0.9</td>\n",
              "      <td>1.1</td>\n",
              "      <td>Gaming</td>\n",
              "      <td>10</td>\n",
              "      <td>3.7</td>\n",
              "      <td>8.6</td>\n",
              "    </tr>\n",
              "    <tr>\n",
              "      <th>5</th>\n",
              "      <td>6</td>\n",
              "      <td>Mary Adams</td>\n",
              "      <td>13</td>\n",
              "      <td>Female</td>\n",
              "      <td>East Angelachester</td>\n",
              "      <td>10th</td>\n",
              "      <td>3.9</td>\n",
              "      <td>6.3</td>\n",
              "      <td>89</td>\n",
              "      <td>3</td>\n",
              "      <td>...</td>\n",
              "      <td>1.1</td>\n",
              "      <td>135</td>\n",
              "      <td>8</td>\n",
              "      <td>3.8</td>\n",
              "      <td>0.0</td>\n",
              "      <td>1.4</td>\n",
              "      <td>Social Media</td>\n",
              "      <td>7</td>\n",
              "      <td>6.0</td>\n",
              "      <td>8.8</td>\n",
              "    </tr>\n",
              "    <tr>\n",
              "      <th>6</th>\n",
              "      <td>7</td>\n",
              "      <td>Hailey Moses</td>\n",
              "      <td>16</td>\n",
              "      <td>Male</td>\n",
              "      <td>North Jeffrey</td>\n",
              "      <td>11th</td>\n",
              "      <td>6.3</td>\n",
              "      <td>6.7</td>\n",
              "      <td>89</td>\n",
              "      <td>3</td>\n",
              "      <td>...</td>\n",
              "      <td>0.8</td>\n",
              "      <td>129</td>\n",
              "      <td>9</td>\n",
              "      <td>1.8</td>\n",
              "      <td>2.7</td>\n",
              "      <td>1.0</td>\n",
              "      <td>Education</td>\n",
              "      <td>7</td>\n",
              "      <td>7.8</td>\n",
              "      <td>10.0</td>\n",
              "    </tr>\n",
              "    <tr>\n",
              "      <th>7</th>\n",
              "      <td>8</td>\n",
              "      <td>Veronica Marshall</td>\n",
              "      <td>13</td>\n",
              "      <td>Other</td>\n",
              "      <td>Jenniferport</td>\n",
              "      <td>10th</td>\n",
              "      <td>5.1</td>\n",
              "      <td>6.1</td>\n",
              "      <td>70</td>\n",
              "      <td>2</td>\n",
              "      <td>...</td>\n",
              "      <td>1.0</td>\n",
              "      <td>34</td>\n",
              "      <td>7</td>\n",
              "      <td>2.3</td>\n",
              "      <td>1.6</td>\n",
              "      <td>0.5</td>\n",
              "      <td>Browsing</td>\n",
              "      <td>9</td>\n",
              "      <td>8.0</td>\n",
              "      <td>8.0</td>\n",
              "    </tr>\n",
              "    <tr>\n",
              "      <th>8</th>\n",
              "      <td>9</td>\n",
              "      <td>Edward Avila</td>\n",
              "      <td>13</td>\n",
              "      <td>Male</td>\n",
              "      <td>Leebury</td>\n",
              "      <td>8th</td>\n",
              "      <td>3.0</td>\n",
              "      <td>9.1</td>\n",
              "      <td>79</td>\n",
              "      <td>0</td>\n",
              "      <td>...</td>\n",
              "      <td>0.9</td>\n",
              "      <td>70</td>\n",
              "      <td>13</td>\n",
              "      <td>2.7</td>\n",
              "      <td>2.2</td>\n",
              "      <td>1.3</td>\n",
              "      <td>Education</td>\n",
              "      <td>10</td>\n",
              "      <td>9.1</td>\n",
              "      <td>7.3</td>\n",
              "    </tr>\n",
              "    <tr>\n",
              "      <th>9</th>\n",
              "      <td>10</td>\n",
              "      <td>James Carter</td>\n",
              "      <td>18</td>\n",
              "      <td>Other</td>\n",
              "      <td>Prestonview</td>\n",
              "      <td>11th</td>\n",
              "      <td>3.9</td>\n",
              "      <td>5.8</td>\n",
              "      <td>89</td>\n",
              "      <td>8</td>\n",
              "      <td>...</td>\n",
              "      <td>0.9</td>\n",
              "      <td>121</td>\n",
              "      <td>13</td>\n",
              "      <td>2.7</td>\n",
              "      <td>0.4</td>\n",
              "      <td>1.0</td>\n",
              "      <td>Other</td>\n",
              "      <td>9</td>\n",
              "      <td>2.9</td>\n",
              "      <td>9.1</td>\n",
              "    </tr>\n",
              "  </tbody>\n",
              "</table>\n",
              "<p>10 rows × 25 columns</p>\n",
              "</div>\n",
              "    <div class=\"colab-df-buttons\">\n",
              "\n",
              "  <div class=\"colab-df-container\">\n",
              "    <button class=\"colab-df-convert\" onclick=\"convertToInteractive('df-811fe594-297f-4537-b3eb-5fd862dfb714')\"\n",
              "            title=\"Convert this dataframe to an interactive table.\"\n",
              "            style=\"display:none;\">\n",
              "\n",
              "  <svg xmlns=\"http://www.w3.org/2000/svg\" height=\"24px\" viewBox=\"0 -960 960 960\">\n",
              "    <path d=\"M120-120v-720h720v720H120Zm60-500h600v-160H180v160Zm220 220h160v-160H400v160Zm0 220h160v-160H400v160ZM180-400h160v-160H180v160Zm440 0h160v-160H620v160ZM180-180h160v-160H180v160Zm440 0h160v-160H620v160Z\"/>\n",
              "  </svg>\n",
              "    </button>\n",
              "\n",
              "  <style>\n",
              "    .colab-df-container {\n",
              "      display:flex;\n",
              "      gap: 12px;\n",
              "    }\n",
              "\n",
              "    .colab-df-convert {\n",
              "      background-color: #E8F0FE;\n",
              "      border: none;\n",
              "      border-radius: 50%;\n",
              "      cursor: pointer;\n",
              "      display: none;\n",
              "      fill: #1967D2;\n",
              "      height: 32px;\n",
              "      padding: 0 0 0 0;\n",
              "      width: 32px;\n",
              "    }\n",
              "\n",
              "    .colab-df-convert:hover {\n",
              "      background-color: #E2EBFA;\n",
              "      box-shadow: 0px 1px 2px rgba(60, 64, 67, 0.3), 0px 1px 3px 1px rgba(60, 64, 67, 0.15);\n",
              "      fill: #174EA6;\n",
              "    }\n",
              "\n",
              "    .colab-df-buttons div {\n",
              "      margin-bottom: 4px;\n",
              "    }\n",
              "\n",
              "    [theme=dark] .colab-df-convert {\n",
              "      background-color: #3B4455;\n",
              "      fill: #D2E3FC;\n",
              "    }\n",
              "\n",
              "    [theme=dark] .colab-df-convert:hover {\n",
              "      background-color: #434B5C;\n",
              "      box-shadow: 0px 1px 3px 1px rgba(0, 0, 0, 0.15);\n",
              "      filter: drop-shadow(0px 1px 2px rgba(0, 0, 0, 0.3));\n",
              "      fill: #FFFFFF;\n",
              "    }\n",
              "  </style>\n",
              "\n",
              "    <script>\n",
              "      const buttonEl =\n",
              "        document.querySelector('#df-811fe594-297f-4537-b3eb-5fd862dfb714 button.colab-df-convert');\n",
              "      buttonEl.style.display =\n",
              "        google.colab.kernel.accessAllowed ? 'block' : 'none';\n",
              "\n",
              "      async function convertToInteractive(key) {\n",
              "        const element = document.querySelector('#df-811fe594-297f-4537-b3eb-5fd862dfb714');\n",
              "        const dataTable =\n",
              "          await google.colab.kernel.invokeFunction('convertToInteractive',\n",
              "                                                    [key], {});\n",
              "        if (!dataTable) return;\n",
              "\n",
              "        const docLinkHtml = 'Like what you see? Visit the ' +\n",
              "          '<a target=\"_blank\" href=https://colab.research.google.com/notebooks/data_table.ipynb>data table notebook</a>'\n",
              "          + ' to learn more about interactive tables.';\n",
              "        element.innerHTML = '';\n",
              "        dataTable['output_type'] = 'display_data';\n",
              "        await google.colab.output.renderOutput(dataTable, element);\n",
              "        const docLink = document.createElement('div');\n",
              "        docLink.innerHTML = docLinkHtml;\n",
              "        element.appendChild(docLink);\n",
              "      }\n",
              "    </script>\n",
              "  </div>\n",
              "\n",
              "\n",
              "    <div id=\"df-191521b6-2120-45ae-b7be-282d71514a70\">\n",
              "      <button class=\"colab-df-quickchart\" onclick=\"quickchart('df-191521b6-2120-45ae-b7be-282d71514a70')\"\n",
              "                title=\"Suggest charts\"\n",
              "                style=\"display:none;\">\n",
              "\n",
              "<svg xmlns=\"http://www.w3.org/2000/svg\" height=\"24px\"viewBox=\"0 0 24 24\"\n",
              "     width=\"24px\">\n",
              "    <g>\n",
              "        <path d=\"M19 3H5c-1.1 0-2 .9-2 2v14c0 1.1.9 2 2 2h14c1.1 0 2-.9 2-2V5c0-1.1-.9-2-2-2zM9 17H7v-7h2v7zm4 0h-2V7h2v10zm4 0h-2v-4h2v4z\"/>\n",
              "    </g>\n",
              "</svg>\n",
              "      </button>\n",
              "\n",
              "<style>\n",
              "  .colab-df-quickchart {\n",
              "      --bg-color: #E8F0FE;\n",
              "      --fill-color: #1967D2;\n",
              "      --hover-bg-color: #E2EBFA;\n",
              "      --hover-fill-color: #174EA6;\n",
              "      --disabled-fill-color: #AAA;\n",
              "      --disabled-bg-color: #DDD;\n",
              "  }\n",
              "\n",
              "  [theme=dark] .colab-df-quickchart {\n",
              "      --bg-color: #3B4455;\n",
              "      --fill-color: #D2E3FC;\n",
              "      --hover-bg-color: #434B5C;\n",
              "      --hover-fill-color: #FFFFFF;\n",
              "      --disabled-bg-color: #3B4455;\n",
              "      --disabled-fill-color: #666;\n",
              "  }\n",
              "\n",
              "  .colab-df-quickchart {\n",
              "    background-color: var(--bg-color);\n",
              "    border: none;\n",
              "    border-radius: 50%;\n",
              "    cursor: pointer;\n",
              "    display: none;\n",
              "    fill: var(--fill-color);\n",
              "    height: 32px;\n",
              "    padding: 0;\n",
              "    width: 32px;\n",
              "  }\n",
              "\n",
              "  .colab-df-quickchart:hover {\n",
              "    background-color: var(--hover-bg-color);\n",
              "    box-shadow: 0 1px 2px rgba(60, 64, 67, 0.3), 0 1px 3px 1px rgba(60, 64, 67, 0.15);\n",
              "    fill: var(--button-hover-fill-color);\n",
              "  }\n",
              "\n",
              "  .colab-df-quickchart-complete:disabled,\n",
              "  .colab-df-quickchart-complete:disabled:hover {\n",
              "    background-color: var(--disabled-bg-color);\n",
              "    fill: var(--disabled-fill-color);\n",
              "    box-shadow: none;\n",
              "  }\n",
              "\n",
              "  .colab-df-spinner {\n",
              "    border: 2px solid var(--fill-color);\n",
              "    border-color: transparent;\n",
              "    border-bottom-color: var(--fill-color);\n",
              "    animation:\n",
              "      spin 1s steps(1) infinite;\n",
              "  }\n",
              "\n",
              "  @keyframes spin {\n",
              "    0% {\n",
              "      border-color: transparent;\n",
              "      border-bottom-color: var(--fill-color);\n",
              "      border-left-color: var(--fill-color);\n",
              "    }\n",
              "    20% {\n",
              "      border-color: transparent;\n",
              "      border-left-color: var(--fill-color);\n",
              "      border-top-color: var(--fill-color);\n",
              "    }\n",
              "    30% {\n",
              "      border-color: transparent;\n",
              "      border-left-color: var(--fill-color);\n",
              "      border-top-color: var(--fill-color);\n",
              "      border-right-color: var(--fill-color);\n",
              "    }\n",
              "    40% {\n",
              "      border-color: transparent;\n",
              "      border-right-color: var(--fill-color);\n",
              "      border-top-color: var(--fill-color);\n",
              "    }\n",
              "    60% {\n",
              "      border-color: transparent;\n",
              "      border-right-color: var(--fill-color);\n",
              "    }\n",
              "    80% {\n",
              "      border-color: transparent;\n",
              "      border-right-color: var(--fill-color);\n",
              "      border-bottom-color: var(--fill-color);\n",
              "    }\n",
              "    90% {\n",
              "      border-color: transparent;\n",
              "      border-bottom-color: var(--fill-color);\n",
              "    }\n",
              "  }\n",
              "</style>\n",
              "\n",
              "      <script>\n",
              "        async function quickchart(key) {\n",
              "          const quickchartButtonEl =\n",
              "            document.querySelector('#' + key + ' button');\n",
              "          quickchartButtonEl.disabled = true;  // To prevent multiple clicks.\n",
              "          quickchartButtonEl.classList.add('colab-df-spinner');\n",
              "          try {\n",
              "            const charts = await google.colab.kernel.invokeFunction(\n",
              "                'suggestCharts', [key], {});\n",
              "          } catch (error) {\n",
              "            console.error('Error during call to suggestCharts:', error);\n",
              "          }\n",
              "          quickchartButtonEl.classList.remove('colab-df-spinner');\n",
              "          quickchartButtonEl.classList.add('colab-df-quickchart-complete');\n",
              "        }\n",
              "        (() => {\n",
              "          let quickchartButtonEl =\n",
              "            document.querySelector('#df-191521b6-2120-45ae-b7be-282d71514a70 button');\n",
              "          quickchartButtonEl.style.display =\n",
              "            google.colab.kernel.accessAllowed ? 'block' : 'none';\n",
              "        })();\n",
              "      </script>\n",
              "    </div>\n",
              "\n",
              "    </div>\n",
              "  </div>\n"
            ],
            "application/vnd.google.colaboratory.intrinsic+json": {
              "type": "dataframe",
              "variable_name": "df"
            }
          },
          "metadata": {},
          "execution_count": 2
        }
      ],
      "source": [
        "import pandas as pd\n",
        "url = \"https://raw.githubusercontent.com/fede-cordoba-Ispc/Cs_Datos_II-Estadistica_II/refs/heads/main/Datos/teen_phone_addiction_dataset.csv\"\n",
        "df = pd.read_csv(url)\n",
        "df.head(10)"
      ]
    },
    {
      "cell_type": "markdown",
      "source": [
        "# Muestra el tipo de dato de cada columna para empezar"
      ],
      "metadata": {
        "id": "AoaeEtvtJ8T7"
      }
    },
    {
      "cell_type": "code",
      "source": [
        "\n",
        "print(df.info())"
      ],
      "metadata": {
        "colab": {
          "base_uri": "https://localhost:8080/"
        },
        "id": "BauiJZWM_qbb",
        "outputId": "ff957d04-b09d-439f-d1cb-60e15f578657"
      },
      "execution_count": null,
      "outputs": [
        {
          "output_type": "stream",
          "name": "stdout",
          "text": [
            "<class 'pandas.core.frame.DataFrame'>\n",
            "RangeIndex: 3000 entries, 0 to 2999\n",
            "Data columns (total 25 columns):\n",
            " #   Column                  Non-Null Count  Dtype  \n",
            "---  ------                  --------------  -----  \n",
            " 0   ID                      3000 non-null   int64  \n",
            " 1   Name                    3000 non-null   object \n",
            " 2   Age                     3000 non-null   int64  \n",
            " 3   Gender                  3000 non-null   object \n",
            " 4   Location                3000 non-null   object \n",
            " 5   School_Grade            3000 non-null   object \n",
            " 6   Daily_Usage_Hours       3000 non-null   float64\n",
            " 7   Sleep_Hours             3000 non-null   float64\n",
            " 8   Academic_Performance    3000 non-null   int64  \n",
            " 9   Social_Interactions     3000 non-null   int64  \n",
            " 10  Exercise_Hours          3000 non-null   float64\n",
            " 11  Anxiety_Level           3000 non-null   int64  \n",
            " 12  Depression_Level        3000 non-null   int64  \n",
            " 13  Self_Esteem             3000 non-null   int64  \n",
            " 14  Parental_Control        3000 non-null   int64  \n",
            " 15  Screen_Time_Before_Bed  3000 non-null   float64\n",
            " 16  Phone_Checks_Per_Day    3000 non-null   int64  \n",
            " 17  Apps_Used_Daily         3000 non-null   int64  \n",
            " 18  Time_on_Social_Media    3000 non-null   float64\n",
            " 19  Time_on_Gaming          3000 non-null   float64\n",
            " 20  Time_on_Education       3000 non-null   float64\n",
            " 21  Phone_Usage_Purpose     3000 non-null   object \n",
            " 22  Family_Communication    3000 non-null   int64  \n",
            " 23  Weekend_Usage_Hours     3000 non-null   float64\n",
            " 24  Addiction_Level         3000 non-null   float64\n",
            "dtypes: float64(9), int64(11), object(5)\n",
            "memory usage: 586.1+ KB\n",
            "None\n"
          ]
        }
      ]
    },
    {
      "cell_type": "markdown",
      "source": [
        "# Muestra las dimesiones del Dataset"
      ],
      "metadata": {
        "id": "Op7rhb6XLLFZ"
      }
    },
    {
      "cell_type": "code",
      "source": [
        "dimensiones = df.shape\n",
        "\n",
        "print(\"Dimensiones del DataFrame:\", dimensiones)\n",
        "print(\"Filas:\", dimensiones[0])\n",
        "print(\"Columnas:\", dimensiones[1])"
      ],
      "metadata": {
        "colab": {
          "base_uri": "https://localhost:8080/"
        },
        "id": "s0bshMEHLQXp",
        "outputId": "29eaddd8-e0da-412f-aaa4-a35943043f40"
      },
      "execution_count": null,
      "outputs": [
        {
          "output_type": "stream",
          "name": "stdout",
          "text": [
            "Dimensiones del DataFrame: (3000, 25)\n",
            "Filas: 3000\n",
            "Columnas: 25\n"
          ]
        }
      ]
    },
    {
      "cell_type": "markdown",
      "source": [
        "#**Lista de columnas:**\n",
        "\n",
        "Para este analisis no son relevantes las columnas : ID y  Nombre\n",
        "\n",
        "**Age:** Edad del participante.\n",
        "\n",
        "**Gender:**  Género del participante.\n",
        "\n",
        "**Location:** Ubicación geográfica del participante.\n",
        "\n",
        "**School_Grade:**Nivel o grado escolar del participante.\n",
        "\n",
        "**Daily_Usage_Hours:** Horas totales de uso diario del teléfono.\n",
        "\n",
        "**Sleep_Hours:** Horas de sueño por noche.\n",
        "\n",
        "**Academic_Performance:** Nivel de rendimiento académico (p. ej., una puntuación o calificación).\n",
        "\n",
        "**Social_Interactions**: Nivel de interacción social fuera del entorno digital.\n",
        "\n",
        "**Exercise_Hours:** Horas de ejercicio físico a la semana.\n",
        "\n",
        "**Anxiety_Level**: Nivel de ansiedad del participante (p. ej., una puntuación en una escala).\n",
        "\n",
        "**Depression_Level**: Nivel de depresión del participante (p. ej., una puntuación en una escala).\n",
        "\n",
        "**Self_Esteem**: Nivel de autoestima del participante (p. ej., una puntuación en una escala).\n",
        "\n",
        "**Parental_Control**: Nivel de autoestima del participante (p. ej., una puntuación en una escala).\n",
        "\n",
        "**Screen_Time_Before_Bed**: tiempo de uso de pantalla antes de dormir.\n",
        "\n",
        "**Phone_Checks_Per_Day**: Cantidad de veces que se revisa el teléfono por día.\n",
        "\n",
        "**Apps_Used_Daily**: Número de aplicaciones usadas diariamente.\n",
        "\n",
        "**Time_on_Social_Media**: Horas al día dedicadas a redes sociales.\n",
        "\n",
        "**Time_on_Education:** Horas al día dedicadas al estudio.\n",
        "\n",
        "**Time_on_Gaming:** Horas al día dedicadas a videojuegos.\n",
        "\n",
        "**Phone_Usage_Purpose:** Razón principal del uso del teléfono (p. ej., social, educativo).\n",
        "\n",
        "**Family_Communication**: Nivel de comunicación con la familia.\n",
        "\n",
        "**Weekend_Usage_Hours**: Horas de uso del teléfono durante el fin de semana.\n",
        "\n",
        "**Addiction_Level:** Nivel de adicción al teléfono.\n"
      ],
      "metadata": {
        "id": "05nECYKPADBc"
      }
    },
    {
      "cell_type": "markdown",
      "source": [
        "## Fila con valores nulos y su porcentaje"
      ],
      "metadata": {
        "id": "hJvNdnTmNPiz"
      }
    },
    {
      "cell_type": "code",
      "source": [
        "valores_nulos_por_fila = df.isnull().sum(axis=1)\n",
        "agrupado = valores_nulos_por_fila.value_counts().sort_index()\n",
        "total_filas = len(df)\n",
        "\n",
        "tabla = pd.DataFrame({\n",
        "    \"Cantidad de nulos\": agrupado.index,\n",
        "    \"Número de filas\": agrupado.values,\n",
        "    \"Porcentaje (%)\": (agrupado.index / total_filas * 100).round(2)\n",
        "})\n",
        "\n",
        "print(\"Cantidad de filas según número de valores nulos:\\n\")\n",
        "print(tabla.to_string(index=False))"
      ],
      "metadata": {
        "colab": {
          "base_uri": "https://localhost:8080/"
        },
        "id": "jvS2u0UBNVqj",
        "outputId": "68d008c2-e8c9-4699-bb90-5e603a61492f"
      },
      "execution_count": null,
      "outputs": [
        {
          "output_type": "stream",
          "name": "stdout",
          "text": [
            "Cantidad de filas según número de valores nulos:\n",
            "\n",
            " Cantidad de nulos  Número de filas  Porcentaje (%)\n",
            "                 0             3000             0.0\n"
          ]
        }
      ]
    },
    {
      "cell_type": "markdown",
      "source": [
        "## Columnas con valores nulos y su porcentaje"
      ],
      "metadata": {
        "id": "ygMU16KfRltr"
      }
    },
    {
      "cell_type": "code",
      "source": [
        "resumen_nulos = pd.DataFrame({\n",
        "    'Nulos': df.isnull().sum(),\n",
        "    'Porcentaje (%)': df.isnull().mean() * 100\n",
        "}).sort_values(by='Nulos', ascending=False)\n",
        "\n",
        "print(resumen_nulos)"
      ],
      "metadata": {
        "colab": {
          "base_uri": "https://localhost:8080/"
        },
        "id": "P51X0corRfN4",
        "outputId": "4b44bed0-5395-4a45-e76d-5b40fee70e49"
      },
      "execution_count": null,
      "outputs": [
        {
          "output_type": "stream",
          "name": "stdout",
          "text": [
            "                        Nulos  Porcentaje (%)\n",
            "ID                          0             0.0\n",
            "Name                        0             0.0\n",
            "Age                         0             0.0\n",
            "Gender                      0             0.0\n",
            "Location                    0             0.0\n",
            "School_Grade                0             0.0\n",
            "Daily_Usage_Hours           0             0.0\n",
            "Sleep_Hours                 0             0.0\n",
            "Academic_Performance        0             0.0\n",
            "Social_Interactions         0             0.0\n",
            "Exercise_Hours              0             0.0\n",
            "Anxiety_Level               0             0.0\n",
            "Depression_Level            0             0.0\n",
            "Self_Esteem                 0             0.0\n",
            "Parental_Control            0             0.0\n",
            "Screen_Time_Before_Bed      0             0.0\n",
            "Phone_Checks_Per_Day        0             0.0\n",
            "Apps_Used_Daily             0             0.0\n",
            "Time_on_Social_Media        0             0.0\n",
            "Time_on_Gaming              0             0.0\n",
            "Time_on_Education           0             0.0\n",
            "Phone_Usage_Purpose         0             0.0\n",
            "Family_Communication        0             0.0\n",
            "Weekend_Usage_Hours         0             0.0\n",
            "Addiction_Level             0             0.0\n"
          ]
        }
      ]
    },
    {
      "cell_type": "markdown",
      "source": [
        "## Filas y columnas completamente vacias"
      ],
      "metadata": {
        "id": "bfF3VwDgYYUv"
      }
    },
    {
      "cell_type": "code",
      "source": [
        "# Calcular si hay filas completamente vacías\n",
        "filas_vacias = df.isnull().all(axis=1).any()\n",
        "columnas_vacias = df.isnull().all(axis=0).any()\n",
        "\n",
        "# Mostrar \"Sí\" o \"No\"\n",
        "print(\"¿Hay filas completamente vacías?:\", \"Sí\" if filas_vacias else \"No\")\n",
        "print(\"¿Hay columnas completamente vacías?:\", \"Sí\" if columnas_vacias else \"No\")"
      ],
      "metadata": {
        "colab": {
          "base_uri": "https://localhost:8080/"
        },
        "id": "_tbQomP6TeRX",
        "outputId": "03e70a18-2a5b-4a57-8f8a-f72f7935da8d"
      },
      "execution_count": null,
      "outputs": [
        {
          "output_type": "stream",
          "name": "stdout",
          "text": [
            "¿Hay filas completamente vacías?: No\n",
            "¿Hay columnas completamente vacías?: No\n"
          ]
        }
      ]
    },
    {
      "cell_type": "markdown",
      "source": [
        "## Descripcion del Dataset"
      ],
      "metadata": {
        "id": "dUoan_28Yue8"
      }
    },
    {
      "cell_type": "code",
      "source": [
        "desc = df.describe()\n",
        "print(\"\\nDescribe transpuesto:\\n\", desc.T)"
      ],
      "metadata": {
        "colab": {
          "base_uri": "https://localhost:8080/"
        },
        "id": "SZBtpjDrX8RY",
        "outputId": "a5c3a5c5-abfb-400e-ef9e-375d38eff0df"
      },
      "execution_count": null,
      "outputs": [
        {
          "output_type": "stream",
          "name": "stdout",
          "text": [
            "\n",
            "Describe transpuesto:\n",
            "                          count         mean         std   min     25%     50%  \\\n",
            "ID                      3000.0  1500.500000  866.169729   1.0  750.75  1500.5   \n",
            "Age                     3000.0    15.969667    1.989489  13.0   14.00    16.0   \n",
            "Daily_Usage_Hours       3000.0     5.020667    1.956501   0.0    3.70     5.0   \n",
            "Sleep_Hours             3000.0     6.489767    1.490713   3.0    5.50     6.5   \n",
            "Academic_Performance    3000.0    74.947333   14.684156  50.0   62.00    75.0   \n",
            "Social_Interactions     3000.0     5.097667    3.139333   0.0    2.00     5.0   \n",
            "Exercise_Hours          3000.0     1.040667    0.734620   0.0    0.50     1.0   \n",
            "Anxiety_Level           3000.0     5.590000    2.890678   1.0    3.00     6.0   \n",
            "Depression_Level        3000.0     5.460333    2.871557   1.0    3.00     5.0   \n",
            "Self_Esteem             3000.0     5.546333    2.860754   1.0    3.00     6.0   \n",
            "Parental_Control        3000.0     0.507333    0.500030   0.0    0.00     1.0   \n",
            "Screen_Time_Before_Bed  3000.0     1.006733    0.492878   0.0    0.70     1.0   \n",
            "Phone_Checks_Per_Day    3000.0    83.093000   37.747044  20.0   51.00    82.0   \n",
            "Apps_Used_Daily         3000.0    12.609333    4.611486   5.0    9.00    13.0   \n",
            "Time_on_Social_Media    3000.0     2.499233    0.988201   0.0    1.80     2.5   \n",
            "Time_on_Gaming          3000.0     1.525267    0.932701   0.0    0.80     1.5   \n",
            "Time_on_Education       3000.0     1.016333    0.648341   0.0    0.50     1.0   \n",
            "Family_Communication    3000.0     5.459667    2.864572   1.0    3.00     5.0   \n",
            "Weekend_Usage_Hours     3000.0     6.015100    2.014776   0.0    4.70     6.0   \n",
            "Addiction_Level         3000.0     8.881900    1.609598   1.0    8.00    10.0   \n",
            "\n",
            "                            75%     max  \n",
            "ID                      2250.25  3000.0  \n",
            "Age                       18.00    19.0  \n",
            "Daily_Usage_Hours          6.40    11.5  \n",
            "Sleep_Hours                7.50    10.0  \n",
            "Academic_Performance      88.00   100.0  \n",
            "Social_Interactions        8.00    10.0  \n",
            "Exercise_Hours             1.50     4.0  \n",
            "Anxiety_Level              8.00    10.0  \n",
            "Depression_Level           8.00    10.0  \n",
            "Self_Esteem                8.00    10.0  \n",
            "Parental_Control           1.00     1.0  \n",
            "Screen_Time_Before_Bed     1.40     2.6  \n",
            "Phone_Checks_Per_Day     115.25   150.0  \n",
            "Apps_Used_Daily           17.00    20.0  \n",
            "Time_on_Social_Media       3.20     5.0  \n",
            "Time_on_Gaming             2.20     4.0  \n",
            "Time_on_Education          1.50     3.0  \n",
            "Family_Communication       8.00    10.0  \n",
            "Weekend_Usage_Hours        7.40    14.0  \n",
            "Addiction_Level           10.00    10.0  \n"
          ]
        }
      ]
    },
    {
      "cell_type": "markdown",
      "source": [
        "**Qué hace este código**\n",
        "\n",
        "\n",
        "\n",
        "1.   Detecta las columnas que son de tipo object o category (categóricas).\n",
        "2.   Para cada columna, muestra los valores únicos y cuántas veces aparecen, incluyendo los valores faltantes (NaN).\n",
        "\n",
        "\n",
        "3.   Esto te permite ver inconsistencias, como:\n",
        "\n",
        "  *   Diferencias de mayúsculas/minúsculas (Sí vs si)\n",
        "\n",
        "  *   Errores de tipeo (Male vs male)\n",
        "\n",
        "  *   Valores inesperados o nulos.\n",
        "\n",
        "\n"
      ],
      "metadata": {
        "id": "zQiYhE6D6-kC"
      }
    },
    {
      "cell_type": "code",
      "source": [
        "import pandas as pd\n",
        "\n",
        "# 1. Cargar dataset en df\n",
        "url = \"https://raw.githubusercontent.com/fede-cordoba-Ispc/Cs_Datos_II-Estadistica_II/refs/heads/main/Datos/teen_phone_addiction_dataset.csv\"\n",
        "df = pd.read_csv(url)\n",
        "\n",
        "# 2. Detectar columnas categóricas\n",
        "categorical_cols = df.select_dtypes(include=['object', 'category']).columns\n",
        "print(\"Columnas categóricas:\", categorical_cols)\n",
        "\n",
        "# 3. Función para detectar inconsistencias comunes\n",
        "def analizar_categoricas(df, cols):\n",
        "    for col in cols:\n",
        "        print(f\"\\n--- Columna: {col} ---\")\n",
        "        # Contar valores únicos\n",
        "        counts = df[col].value_counts(dropna=False)\n",
        "        print(counts)\n",
        "\n",
        "        # Detectar posibles inconsistencias\n",
        "        inconsistencias = []\n",
        "        for val in counts.index:\n",
        "            if isinstance(val, str):\n",
        "                # Verificar mayúsculas/minúsculas\n",
        "                lower_vals = [v for v in counts.index if isinstance(v, str) and v.lower() == val.lower()]\n",
        "                if len(lower_vals) > 1:\n",
        "                    inconsistencias.append(f\"Diferencias de mayúsculas/minúsculas: {lower_vals}\")\n",
        "\n",
        "                # Detectar espacios extra\n",
        "                if val != val.strip():\n",
        "                    inconsistencias.append(f\"Espacios al inicio/final: '{val}'\")\n",
        "\n",
        "        if inconsistencias:\n",
        "            print(\"Posibles inconsistencias detectadas:\")\n",
        "            for inc in inconsistencias:\n",
        "                print(\"   -\", inc)\n",
        "        else:\n",
        "            print(\"Sin inconsistencias obvias\")\n",
        "\n",
        "# 4. Ejecutar análisis\n",
        "analizar_categoricas(df, categorical_cols)\n"
      ],
      "metadata": {
        "colab": {
          "base_uri": "https://localhost:8080/"
        },
        "id": "4LqaRRWLRj6a",
        "outputId": "7784ccf3-6f22-4ccd-dd74-675fd699fb68"
      },
      "execution_count": 7,
      "outputs": [
        {
          "output_type": "stream",
          "name": "stdout",
          "text": [
            "Columnas categóricas: Index(['Name', 'Gender', 'Location', 'School_Grade', 'Phone_Usage_Purpose'], dtype='object')\n",
            "\n",
            "--- Columna: Name ---\n",
            "Name\n",
            "Michael Garcia     3\n",
            "Gregory Johnson    3\n",
            "Michael Brown      3\n",
            "Richard Smith      3\n",
            "David Williams     3\n",
            "                  ..\n",
            "Erika Moreno       1\n",
            "Brandon Welch      1\n",
            "Rebekah Harris     1\n",
            "Ana Martinez       1\n",
            "Thomas Ayers       1\n",
            "Name: count, Length: 2933, dtype: int64\n",
            "Sin inconsistencias obvias\n",
            "\n",
            "--- Columna: Gender ---\n",
            "Gender\n",
            "Male      1016\n",
            "Female    1007\n",
            "Other      977\n",
            "Name: count, dtype: int64\n",
            "Sin inconsistencias obvias\n",
            "\n",
            "--- Columna: Location ---\n",
            "Location\n",
            "North Michael          6\n",
            "Lake Michael           5\n",
            "South David            4\n",
            "East Michael           4\n",
            "North Jennifer         4\n",
            "                      ..\n",
            "East Tiffanychester    1\n",
            "Cardenasborough        1\n",
            "Lake Carolynfort       1\n",
            "Butlerville            1\n",
            "Brianhaven             1\n",
            "Name: count, Length: 2726, dtype: int64\n",
            "Sin inconsistencias obvias\n",
            "\n",
            "--- Columna: School_Grade ---\n",
            "School_Grade\n",
            "12th    529\n",
            "9th     526\n",
            "7th     497\n",
            "10th    487\n",
            "8th     482\n",
            "11th    479\n",
            "Name: count, dtype: int64\n",
            "Sin inconsistencias obvias\n",
            "\n",
            "--- Columna: Phone_Usage_Purpose ---\n",
            "Phone_Usage_Purpose\n",
            "Browsing        627\n",
            "Other           622\n",
            "Education       602\n",
            "Social Media    575\n",
            "Gaming          574\n",
            "Name: count, dtype: int64\n",
            "Sin inconsistencias obvias\n"
          ]
        }
      ]
    },
    {
      "cell_type": "markdown",
      "source": [
        "**Verificar que los datos tengan sentido (ej. la edad es positiva, las fechas son lógicas).**\n"
      ],
      "metadata": {
        "id": "eQWBo64FXiBW"
      }
    },
    {
      "cell_type": "code",
      "source": [
        "\n",
        "print(df.duplicated().sum())  # Filas duplicadas\n"
      ],
      "metadata": {
        "colab": {
          "base_uri": "https://localhost:8080/"
        },
        "id": "ZCHINeu0s4al",
        "outputId": "ff6d8160-3d52-4b93-e3ab-46e774c313bc"
      },
      "execution_count": null,
      "outputs": [
        {
          "output_type": "stream",
          "name": "stdout",
          "text": [
            "0\n"
          ]
        }
      ]
    },
    {
      "cell_type": "markdown",
      "source": [
        "**Variables numéricas**"
      ],
      "metadata": {
        "id": "voEDqxpV0uO5"
      }
    },
    {
      "cell_type": "code",
      "source": [
        "print(df[['Age','Daily_Usage_Hours','Sleep_Hours','Exercise_Hours']].describe())\n"
      ],
      "metadata": {
        "colab": {
          "base_uri": "https://localhost:8080/"
        },
        "id": "wCKqXLsyzM8_",
        "outputId": "dd30187c-e583-4fe2-e2a9-91c8844dddab"
      },
      "execution_count": null,
      "outputs": [
        {
          "output_type": "stream",
          "name": "stdout",
          "text": [
            "               Age  Daily_Usage_Hours  Sleep_Hours  Exercise_Hours\n",
            "count  3000.000000        3000.000000  3000.000000     3000.000000\n",
            "mean     15.969667           5.020667     6.489767        1.040667\n",
            "std       1.989489           1.956501     1.490713        0.734620\n",
            "min      13.000000           0.000000     3.000000        0.000000\n",
            "25%      14.000000           3.700000     5.500000        0.500000\n",
            "50%      16.000000           5.000000     6.500000        1.000000\n",
            "75%      18.000000           6.400000     7.500000        1.500000\n",
            "max      19.000000          11.500000    10.000000        4.000000\n"
          ]
        }
      ]
    },
    {
      "cell_type": "markdown",
      "source": [
        "**Variables categóricas**"
      ],
      "metadata": {
        "id": "LLMfkOy31TcB"
      }
    },
    {
      "cell_type": "code",
      "source": [
        "for col in ['Gender','School_Grade','Phone_Usage_Purpose']:\n",
        "    print(f\"\\n{col}:\", df[col].unique())\n"
      ],
      "metadata": {
        "colab": {
          "base_uri": "https://localhost:8080/"
        },
        "id": "QeI06G4D1XTj",
        "outputId": "80cc4bd7-7e48-47ed-e369-fc26d173a64a"
      },
      "execution_count": 8,
      "outputs": [
        {
          "output_type": "stream",
          "name": "stdout",
          "text": [
            "\n",
            "Gender: ['Female' 'Other' 'Male']\n",
            "\n",
            "School_Grade: ['9th' '7th' '11th' '12th' '10th' '8th']\n",
            "\n",
            "Phone_Usage_Purpose: ['Browsing' 'Education' 'Social Media' 'Gaming' 'Other']\n"
          ]
        }
      ]
    },
    {
      "cell_type": "markdown",
      "source": [
        "**Consistencia lógica entre variables**"
      ],
      "metadata": {
        "id": "xMxY8hHx2B8S"
      }
    },
    {
      "cell_type": "markdown",
      "source": [
        "Si Daily_Usage_Hours + Sleep_Hours > 24 → inconsistente."
      ],
      "metadata": {
        "id": "qMrSXoRy2TaK"
      }
    },
    {
      "cell_type": "code",
      "source": [
        "df[df['Daily_Usage_Hours'] + df['Sleep_Hours'] > 24]\n"
      ],
      "metadata": {
        "colab": {
          "base_uri": "https://localhost:8080/",
          "height": 99
        },
        "id": "Z6T8yHc52JAl",
        "outputId": "dbf0ed91-671a-4b83-b3c5-86aeb1ce1559"
      },
      "execution_count": 9,
      "outputs": [
        {
          "output_type": "execute_result",
          "data": {
            "text/plain": [
              "Empty DataFrame\n",
              "Columns: [ID, Name, Age, Gender, Location, School_Grade, Daily_Usage_Hours, Sleep_Hours, Academic_Performance, Social_Interactions, Exercise_Hours, Anxiety_Level, Depression_Level, Self_Esteem, Parental_Control, Screen_Time_Before_Bed, Phone_Checks_Per_Day, Apps_Used_Daily, Time_on_Social_Media, Time_on_Gaming, Time_on_Education, Phone_Usage_Purpose, Family_Communication, Weekend_Usage_Hours, Addiction_Level]\n",
              "Index: []\n",
              "\n",
              "[0 rows x 25 columns]"
            ],
            "text/html": [
              "\n",
              "  <div id=\"df-bb2cf948-e641-49e1-b438-3f67a48e38ed\" class=\"colab-df-container\">\n",
              "    <div>\n",
              "<style scoped>\n",
              "    .dataframe tbody tr th:only-of-type {\n",
              "        vertical-align: middle;\n",
              "    }\n",
              "\n",
              "    .dataframe tbody tr th {\n",
              "        vertical-align: top;\n",
              "    }\n",
              "\n",
              "    .dataframe thead th {\n",
              "        text-align: right;\n",
              "    }\n",
              "</style>\n",
              "<table border=\"1\" class=\"dataframe\">\n",
              "  <thead>\n",
              "    <tr style=\"text-align: right;\">\n",
              "      <th></th>\n",
              "      <th>ID</th>\n",
              "      <th>Name</th>\n",
              "      <th>Age</th>\n",
              "      <th>Gender</th>\n",
              "      <th>Location</th>\n",
              "      <th>School_Grade</th>\n",
              "      <th>Daily_Usage_Hours</th>\n",
              "      <th>Sleep_Hours</th>\n",
              "      <th>Academic_Performance</th>\n",
              "      <th>Social_Interactions</th>\n",
              "      <th>...</th>\n",
              "      <th>Screen_Time_Before_Bed</th>\n",
              "      <th>Phone_Checks_Per_Day</th>\n",
              "      <th>Apps_Used_Daily</th>\n",
              "      <th>Time_on_Social_Media</th>\n",
              "      <th>Time_on_Gaming</th>\n",
              "      <th>Time_on_Education</th>\n",
              "      <th>Phone_Usage_Purpose</th>\n",
              "      <th>Family_Communication</th>\n",
              "      <th>Weekend_Usage_Hours</th>\n",
              "      <th>Addiction_Level</th>\n",
              "    </tr>\n",
              "  </thead>\n",
              "  <tbody>\n",
              "  </tbody>\n",
              "</table>\n",
              "<p>0 rows × 25 columns</p>\n",
              "</div>\n",
              "    <div class=\"colab-df-buttons\">\n",
              "\n",
              "  <div class=\"colab-df-container\">\n",
              "    <button class=\"colab-df-convert\" onclick=\"convertToInteractive('df-bb2cf948-e641-49e1-b438-3f67a48e38ed')\"\n",
              "            title=\"Convert this dataframe to an interactive table.\"\n",
              "            style=\"display:none;\">\n",
              "\n",
              "  <svg xmlns=\"http://www.w3.org/2000/svg\" height=\"24px\" viewBox=\"0 -960 960 960\">\n",
              "    <path d=\"M120-120v-720h720v720H120Zm60-500h600v-160H180v160Zm220 220h160v-160H400v160Zm0 220h160v-160H400v160ZM180-400h160v-160H180v160Zm440 0h160v-160H620v160ZM180-180h160v-160H180v160Zm440 0h160v-160H620v160Z\"/>\n",
              "  </svg>\n",
              "    </button>\n",
              "\n",
              "  <style>\n",
              "    .colab-df-container {\n",
              "      display:flex;\n",
              "      gap: 12px;\n",
              "    }\n",
              "\n",
              "    .colab-df-convert {\n",
              "      background-color: #E8F0FE;\n",
              "      border: none;\n",
              "      border-radius: 50%;\n",
              "      cursor: pointer;\n",
              "      display: none;\n",
              "      fill: #1967D2;\n",
              "      height: 32px;\n",
              "      padding: 0 0 0 0;\n",
              "      width: 32px;\n",
              "    }\n",
              "\n",
              "    .colab-df-convert:hover {\n",
              "      background-color: #E2EBFA;\n",
              "      box-shadow: 0px 1px 2px rgba(60, 64, 67, 0.3), 0px 1px 3px 1px rgba(60, 64, 67, 0.15);\n",
              "      fill: #174EA6;\n",
              "    }\n",
              "\n",
              "    .colab-df-buttons div {\n",
              "      margin-bottom: 4px;\n",
              "    }\n",
              "\n",
              "    [theme=dark] .colab-df-convert {\n",
              "      background-color: #3B4455;\n",
              "      fill: #D2E3FC;\n",
              "    }\n",
              "\n",
              "    [theme=dark] .colab-df-convert:hover {\n",
              "      background-color: #434B5C;\n",
              "      box-shadow: 0px 1px 3px 1px rgba(0, 0, 0, 0.15);\n",
              "      filter: drop-shadow(0px 1px 2px rgba(0, 0, 0, 0.3));\n",
              "      fill: #FFFFFF;\n",
              "    }\n",
              "  </style>\n",
              "\n",
              "    <script>\n",
              "      const buttonEl =\n",
              "        document.querySelector('#df-bb2cf948-e641-49e1-b438-3f67a48e38ed button.colab-df-convert');\n",
              "      buttonEl.style.display =\n",
              "        google.colab.kernel.accessAllowed ? 'block' : 'none';\n",
              "\n",
              "      async function convertToInteractive(key) {\n",
              "        const element = document.querySelector('#df-bb2cf948-e641-49e1-b438-3f67a48e38ed');\n",
              "        const dataTable =\n",
              "          await google.colab.kernel.invokeFunction('convertToInteractive',\n",
              "                                                    [key], {});\n",
              "        if (!dataTable) return;\n",
              "\n",
              "        const docLinkHtml = 'Like what you see? Visit the ' +\n",
              "          '<a target=\"_blank\" href=https://colab.research.google.com/notebooks/data_table.ipynb>data table notebook</a>'\n",
              "          + ' to learn more about interactive tables.';\n",
              "        element.innerHTML = '';\n",
              "        dataTable['output_type'] = 'display_data';\n",
              "        await google.colab.output.renderOutput(dataTable, element);\n",
              "        const docLink = document.createElement('div');\n",
              "        docLink.innerHTML = docLinkHtml;\n",
              "        element.appendChild(docLink);\n",
              "      }\n",
              "    </script>\n",
              "  </div>\n",
              "\n",
              "\n",
              "    </div>\n",
              "  </div>\n"
            ],
            "application/vnd.google.colaboratory.intrinsic+json": {
              "type": "dataframe"
            }
          },
          "metadata": {},
          "execution_count": 9
        }
      ]
    },
    {
      "cell_type": "markdown",
      "source": [
        "Validando inconcistencias entre edades de personas que asisten al secundario"
      ],
      "metadata": {
        "id": "hHcMiQwh3V2E"
      }
    },
    {
      "cell_type": "code",
      "source": [
        "# Definir los grados de secundaria en el dataset\n",
        "secondary_grades = ['7th', '8th', '9th', '10th', '11th', '12th']\n",
        "\n",
        "# Filtrar inconsistencias: edad < 13 y en secundaria\n",
        "inconsistencias = df[(df[\"Age\"] < 13) & (df[\"School_Grade\"].isin(secondary_grades))]\n",
        "\n",
        "# Mostrar resultados\n",
        "if inconsistencias.empty:\n",
        "    print(\"No se encontraron inconsistencias (Edad < 13 en secundaria).\")\n",
        "else:\n",
        "    print(\"Se encontraron inconsistencias:\\n\")\n",
        "    print(inconsistencias[[\"ID\", \"Name\", \"Age\", \"School_Grade\"]])\n"
      ],
      "metadata": {
        "colab": {
          "base_uri": "https://localhost:8080/"
        },
        "id": "8ycQwAUT3RWZ",
        "outputId": "6624ffaa-d48b-4e8c-f4df-3715b4ef5b59"
      },
      "execution_count": 13,
      "outputs": [
        {
          "output_type": "stream",
          "name": "stdout",
          "text": [
            "No se encontraron inconsistencias (Edad < 13 en secundaria).\n"
          ]
        }
      ]
    },
    {
      "cell_type": "markdown",
      "source": [
        "Validando inconcistencias entre Aplicaciones usadas y revisa el teléfono más de 0 veces al día"
      ],
      "metadata": {
        "id": "d6h0Q98k3kiv"
      }
    },
    {
      "cell_type": "code",
      "source": [
        "# Filtrar inconsistencias: 0 apps usadas pero revisa el teléfono más de 0 veces al día\n",
        "inconsistencias_apps = df[(df[\"Apps_Used_Daily\"] == 0) & (df[\"Phone_Checks_Per_Day\"] > 0)]\n",
        "\n",
        "# Mostrar resultados\n",
        "if inconsistencias_apps.empty:\n",
        "    print(\"No se encontraron inconsistencias (0 apps usadas pero con chequeos de teléfono).\")\n",
        "else:\n",
        "    print(\"Se encontraron inconsistencias:\\n\")\n",
        "    print(inconsistencias_apps[[\"ID\", \"Name\", \"Apps_Used_Daily\", \"Phone_Checks_Per_Day\"]])\n"
      ],
      "metadata": {
        "colab": {
          "base_uri": "https://localhost:8080/"
        },
        "id": "S25uaoMW3lT_",
        "outputId": "d6f4217d-c65c-43d8-d81d-8d9e643cdd04"
      },
      "execution_count": 14,
      "outputs": [
        {
          "output_type": "stream",
          "name": "stdout",
          "text": [
            "No se encontraron inconsistencias (0 apps usadas pero con chequeos de teléfono).\n"
          ]
        }
      ]
    },
    {
      "cell_type": "markdown",
      "source": [
        "Correlacion de nivel adiccion al uso del telefono"
      ],
      "metadata": {
        "id": "zzqpqkbY6rck"
      }
    },
    {
      "cell_type": "code",
      "source": [
        "# Seleccionar columnas relevantes\n",
        "cols = ['Daily_Usage_Hours', 'Phone_Checks_Per_Day', 'Apps_Used_Daily',\n",
        "        'Time_on_Social_Media', 'Time_on_Gaming', 'Screen_Time_Before_Bed',\n",
        "        'Weekend_Usage_Hours', 'Sleep_Hours', 'Exercise_Hours',\n",
        "        'Anxiety_Level', 'Depression_Level', 'Self_Esteem',\n",
        "        'Family_Communication', 'Addiction_Level']\n",
        "\n",
        "# Calcular correlación\n",
        "correlaciones = df[cols].corr()['Addiction_Level'].sort_values(ascending=False)\n",
        "print(correlaciones)\n"
      ],
      "metadata": {
        "colab": {
          "base_uri": "https://localhost:8080/"
        },
        "id": "ZxelKpfZ6ylI",
        "outputId": "37a84f7a-de02-44f3-f376-555b0a37e4ad"
      },
      "execution_count": 15,
      "outputs": [
        {
          "output_type": "stream",
          "name": "stdout",
          "text": [
            "Addiction_Level           1.000000\n",
            "Daily_Usage_Hours         0.600771\n",
            "Apps_Used_Daily           0.319287\n",
            "Time_on_Social_Media      0.306578\n",
            "Time_on_Gaming            0.273060\n",
            "Phone_Checks_Per_Day      0.246342\n",
            "Anxiety_Level             0.016005\n",
            "Screen_Time_Before_Bed    0.013784\n",
            "Depression_Level          0.008491\n",
            "Family_Communication     -0.010482\n",
            "Weekend_Usage_Hours      -0.013049\n",
            "Exercise_Hours           -0.021015\n",
            "Self_Esteem              -0.022292\n",
            "Sleep_Hours              -0.216681\n",
            "Name: Addiction_Level, dtype: float64\n"
          ]
        }
      ]
    },
    {
      "cell_type": "markdown",
      "source": [],
      "metadata": {
        "id": "lQ6P7F7l7vuc"
      }
    },
    {
      "cell_type": "code",
      "source": [
        "import pandas as pd\n",
        "import matplotlib.pyplot as plt\n",
        "import seaborn as sns\n",
        "\n",
        "# Cargar dataset\n",
        "url = \"https://raw.githubusercontent.com/fede-cordoba-Ispc/Cs_Datos_II-Estadistica_II/refs/heads/main/Datos/teen_phone_addiction_dataset.csv\"\n",
        "df = pd.read_csv(url)\n",
        "\n",
        "# Seleccionar variables numéricas\n",
        "num_cols = df.select_dtypes(include='number').columns.tolist()\n",
        "\n",
        "# Calcular correlación con Addiction_Level\n",
        "correlaciones = df[num_cols].corr()['Addiction_Level'].sort_values(ascending=False)\n",
        "df_corr = correlaciones.reset_index()\n",
        "df_corr.columns = ['Variable', 'Correlacion']\n",
        "\n",
        "# Clasificar tipo de relación\n",
        "def categorizar(c):\n",
        "    if c > 0.5:\n",
        "        return 'Fuerte influencia'\n",
        "    elif 0.2 < c <= 0.5:\n",
        "        return 'Influencia moderada'\n",
        "    elif -0.5 < c <= -0.2:\n",
        "        return 'Relación negativa moderada'\n",
        "    else:\n",
        "        return 'Relación débil / casi nula'\n",
        "\n",
        "df_corr['Tipo'] = df_corr['Correlacion'].apply(categorizar)\n",
        "\n",
        "# Filtrar solo variables relevantes (fuertes, moderadas, negativas moderadas)\n",
        "df_relevantes = df_corr[df_corr['Tipo'] != 'Relación débil / casi nula']\n",
        "\n",
        "# Mostrar tabla filtrada\n",
        "print(\"Variables más relevantes con Addiction_Level:\\n\")\n",
        "print(df_relevantes)\n",
        "\n",
        "# Gráfico de barras filtrado\n",
        "plt.figure(figsize=(8,5))\n",
        "sns.barplot(data=df_relevantes, x='Correlacion', y='Variable', hue='Tipo', dodge=False, palette='Set2')\n",
        "plt.title('Variables más relevantes relacionadas con el Nivel de Adicción')\n",
        "plt.xlabel('Correlación con Addiction_Level')\n",
        "plt.ylabel('Variable')\n",
        "plt.legend(title='Tipo de relación')\n",
        "plt.show()\n"
      ],
      "metadata": {
        "id": "SgqRy3Pm81yo",
        "outputId": "90f99d05-1362-4860-96ce-2c346f191a36",
        "colab": {
          "base_uri": "https://localhost:8080/",
          "height": 676
        }
      },
      "execution_count": null,
      "outputs": [
        {
          "output_type": "stream",
          "name": "stdout",
          "text": [
            "Variables más relevantes con Addiction_Level:\n",
            "\n",
            "                Variable  Correlacion                        Tipo\n",
            "0        Addiction_Level     1.000000           Fuerte influencia\n",
            "1      Daily_Usage_Hours     0.600771           Fuerte influencia\n",
            "2        Apps_Used_Daily     0.319287         Influencia moderada\n",
            "3   Time_on_Social_Media     0.306578         Influencia moderada\n",
            "4         Time_on_Gaming     0.273060         Influencia moderada\n",
            "5   Phone_Checks_Per_Day     0.246342         Influencia moderada\n",
            "19           Sleep_Hours    -0.216681  Relación negativa moderada\n"
          ]
        },
        {
          "output_type": "display_data",
          "data": {
            "text/plain": [
              "<Figure size 800x500 with 1 Axes>"
            ],
            "image/png": "[encoded data removed]"
          },
          "metadata": {}
        }
      ]
    },
    {
      "cell_type": "markdown",
      "source": [
        "#   Análisis Descriptivo y Outliers\n",
        "\n",
        "\n",
        "\n"
      ],
      "metadata": {
        "id": "7_sdPTnxq346"
      }
    },
    {
      "cell_type": "markdown",
      "source": [
        "# Validación y Estructura\n",
        "* Corregir formatos (mayúsculas, minúsculas, etc.).\n",
        "\n",
        "\n"
      ],
      "metadata": {
        "id": "Ai3AEGhZU1em"
      }
    },
    {
      "cell_type": "code",
      "source": [
        "# Importar la librería pandas\n",
        "import pandas as pd\n",
        "\n",
        "\n",
        "\n",
        "# Identificar automáticamente todas las columnas con tipo de dato 'object'\n",
        "columnas_texto = df.select_dtypes(include=['object']).columns\n",
        "\n",
        "# Iterar sobre estas columnas y convertirlas a minúsculas\n",
        "for col in columnas_texto:\n",
        "    df[col] = df[col].str.lower()\n",
        "\n",
        "# Mostrar el resultado para verificar los cambios\n",
        "print(\"Columnas de texto convertidas a minúsculas:\")\n",
        "for col in columnas_texto:\n",
        "    print(f\"- {col}\")\n",
        "print(\"\\nPrimeras 5 filas del DataFrame con los formatos corregidos:\")\n",
        "print(df.head())"
      ],
      "metadata": {
        "colab": {
          "base_uri": "https://localhost:8080/"
        },
        "id": "FnwD4egjVE-U",
        "outputId": "8798c701-fa2d-4951-ae3b-6f5d93fd4707"
      },
      "execution_count": null,
      "outputs": [
        {
          "output_type": "stream",
          "name": "stdout",
          "text": [
            "Columnas de texto convertidas a minúsculas:\n",
            "- Name\n",
            "- Gender\n",
            "- Location\n",
            "- School_Grade\n",
            "- Phone_Usage_Purpose\n",
            "\n",
            "Primeras 5 filas del DataFrame con los formatos corregidos:\n",
            "   ID               Name  Age  Gender          Location School_Grade  \\\n",
            "0   1    shannon francis   13  female        hansonfort          9th   \n",
            "1   2    scott rodriguez   17  female      theodorefort          7th   \n",
            "2   3        adrian knox   13   other       lindseystad         11th   \n",
            "3   4  brittany hamilton   18  female      west anthony         12th   \n",
            "4   5       steven smith   14   other  port lindsaystad          9th   \n",
            "\n",
            "   Daily_Usage_Hours  Sleep_Hours  Academic_Performance  Social_Interactions  \\\n",
            "0                4.0          6.1                    78                    5   \n",
            "1                5.5          6.5                    70                    5   \n",
            "2                5.8          5.5                    93                    8   \n",
            "3                3.1          3.9                    78                    8   \n",
            "4                2.5          6.7                    56                    4   \n",
            "\n",
            "   ...  Screen_Time_Before_Bed  Phone_Checks_Per_Day  Apps_Used_Daily  \\\n",
            "0  ...                     1.4                    86               19   \n",
            "1  ...                     0.9                    96                9   \n",
            "2  ...                     0.5                   137                8   \n",
            "3  ...                     1.4                   128                7   \n",
            "4  ...                     1.0                    96               20   \n",
            "\n",
            "   Time_on_Social_Media  Time_on_Gaming  Time_on_Education  \\\n",
            "0                   3.6             1.7                1.2   \n",
            "1                   1.1             4.0                1.8   \n",
            "2                   0.3             1.5                0.4   \n",
            "3                   3.1             1.6                0.8   \n",
            "4                   2.6             0.9                1.1   \n",
            "\n",
            "   Phone_Usage_Purpose  Family_Communication  Weekend_Usage_Hours  \\\n",
            "0             browsing                     4                  8.7   \n",
            "1             browsing                     2                  5.3   \n",
            "2            education                     6                  5.7   \n",
            "3         social media                     8                  3.0   \n",
            "4               gaming                    10                  3.7   \n",
            "\n",
            "   Addiction_Level  \n",
            "0             10.0  \n",
            "1             10.0  \n",
            "2              9.2  \n",
            "3              9.8  \n",
            "4              8.6  \n",
            "\n",
            "[5 rows x 25 columns]\n"
          ]
        }
      ]
    },
    {
      "cell_type": "markdown",
      "source": [
        "# Validación de las columnas\n",
        "\n",
        "### Columnas convertidas a minúsculas\n",
        "El código identificó y procesó las columnas de texto que necesitaban corrección:\n",
        "\n",
        "- **Name**  \n",
        "- **Gender**  \n",
        "- **Location**  \n",
        "- **School_Grade**  \n",
        "- **Phone_Usage_Purpose**\n",
        "\n",
        "---\n",
        "\n",
        "### Verificación de los cambios\n",
        "En las primeras 5 filas del DataFrame se observa que los valores fueron convertidos a minúsculas:  \n",
        "\n",
        "- `Shannon Francis` → `shannon francis`  \n",
        "- `Browsing` → `browsing`  \n",
        "\n",
        "Esto confirma que la limpieza se realizó con éxito.\n",
        "\n",
        "---\n",
        "\n",
        "### ¿Por qué a minúsculas y no a mayúsculas?\n",
        "\n",
        "- **Evita duplicados y errores de conteo:**  \n",
        "  `\"Female\"`, `\"FEMALE\"` y `\"female\"` se agrupan como **`female`**, evitando contar categorías separadas.  \n",
        "\n",
        "- **Simplifica búsqueda y filtrado:**  \n",
        "  Con un formato estandarizado basta con buscar `\"9th grade\"` en lugar de múltiples variantes.  \n",
        "\n",
        "- **Preparación para análisis de texto (NLP):**  \n",
        "  Facilita el procesamiento y evita que palabras iguales se traten como distintas solo por mayúsculas.  \n",
        "\n",
        " En resumen: convertir a minúsculas es la forma más sencilla y efectiva de **estandarizar datos categóricos** para lograr un análisis preciso y confiable.\n",
        "\n",
        "---\n",
        "\n",
        "### Automatización aplicada\n",
        "Se utilizó:\n",
        "\n",
        "```python\n",
        "df.select_dtypes(include=['object'])\n"
      ],
      "metadata": {
        "id": "vNz4_hW-YKEd"
      }
    },
    {
      "cell_type": "markdown",
      "source": [
        "# Análisis Descriptivo y Outliers\n"
      ],
      "metadata": {
        "id": "2cEmYCs2ZT6u"
      }
    },
    {
      "cell_type": "markdown",
      "source": [
        "# 2. Visualizar y Detectar Outliers (Valores Atípicos)\n",
        "\n",
        "Para visualizar los outliers, utilizamos caja (boxplots). Estos gráficos  muestran la distribución de los datos y cualquier punto que se encuentre fuera de los bigotes del diagrama se considera un valor atípico. Vamos a visualizar algunas de las variables más relevantes."
      ],
      "metadata": {
        "id": "jVzG0BpTcMNj"
      }
    },
    {
      "cell_type": "code",
      "source": [
        "# Importar las librerías para visualización\n",
        "import matplotlib.pyplot as plt\n",
        "import seaborn as sns\n",
        "\n",
        "# Seleccionar algunas variables numéricas para visualizar outliers\n",
        "numeric_columns = ['Daily_Usage_Hours', 'Sleep_Hours', 'Academic_Performance',\n",
        "                   'Anxiety_Level', 'Depression_Level', 'Self_Esteem']\n",
        "\n",
        "# Crear subplots para mostrar varios boxplots\n",
        "plt.figure(figsize=(15, 10))\n",
        "for i, col in enumerate(numeric_columns, 1):\n",
        "    plt.subplot(2, 3, i)\n",
        "    sns.boxplot(x=df[col])\n",
        "    plt.title(f'Boxplot de {col}')\n",
        "    plt.xlabel(col)\n",
        "plt.tight_layout()\n",
        "plt.show()\n",
        "\n",
        "print(\"\\n Visualización de outliers completada. Los puntos fuera de los bigotes de los boxplots son los valores atípicos.\")"
      ],
      "metadata": {
        "colab": {
          "base_uri": "https://localhost:8080/",
          "height": 1000
        },
        "id": "snTpeGPUcYQn",
        "outputId": "2594f5d9-1899-4a71-be00-847fd9279a84"
      },
      "execution_count": null,
      "outputs": [
        {
          "output_type": "display_data",
          "data": {
            "text/plain": [
              "<Figure size 1500x1000 with 6 Axes>"
            ],
            "image/png": "[encoded data removed]"
          },
          "metadata": {}
        },
        {
          "output_type": "stream",
          "name": "stdout",
          "text": [
            "\n",
            " Visualización de outliers completada. Los puntos fuera de los bigotes de los boxplots son los valores atípicos.\n"
          ]
        }
      ]
    },
    {
      "cell_type": "markdown",
      "source": [
        "**Observaciones clave**\n",
        "\n",
        "* Daily_Usage_Hours: La mayoría de los datos se concentran en un rango de 4 a 6 horas. Hay varios puntos que se extienden más allá del bigote superior, indicando la presencia de valores atípicos (outliers) de personas con un uso de pantalla significativamente mayor, de 10 horas o más.\n",
        "\n",
        "* Sleep_Hours: La distribución de las horas de sueño es bastante simétrica, centrada alrededor de 7 horas. La mayoría de las personas duermen entre 6 y 8 horas, y no se observan valores atípicos.\n",
        "\n",
        "* Academic_Performance: La distribución de los resultados académicos es bastante centrada, sin valores atípicos notables. La mediana está cerca de 80, lo que sugiere que la mayoría de los estudiantes tienen un buen rendimiento académico.\n",
        "\n",
        "* Anxiety_Level: La distribución del nivel de ansiedad es amplia, con una mediana alrededor de 6. Esto indica una variabilidad considerable en los niveles de ansiedad entre los individuos, pero no hay valores atípicos extremos.\n",
        "\n",
        "* Depression_Level: Similar al nivel de ansiedad, la distribución de la depresión también es amplia y abarca un rango similar, con una mediana alrededor de 6. Esto sugiere una variabilidad considerable en la muestra.\n",
        "\n",
        "* Self_Esteem: El nivel de autoestima muestra una distribución bastante centrada, con la mayoría de los valores agrupados alrededor de la mediana, que parece estar cerca de 7. Al igual que con el rendimiento académico, no se observan valores atípicos significativos."
      ],
      "metadata": {
        "id": "oaLY3MAWiAqj"
      }
    },
    {
      "cell_type": "markdown",
      "source": [
        "# 3. Proponer y Manejar Outliers\n",
        "Usamos el método más común y robusto para manejar outliers es el Rango Intercuartílico (IQR). La idea es identificar y, si es necesario, eliminar los valores que están significativamente alejados del centro de los datos, generalmente más allá de 1.5 veces el IQR de los cuartiles. Es crucial analizar cada caso, ya que a veces los outliers son datos válidos."
      ],
      "metadata": {
        "id": "3Tv-DEnEcheC"
      }
    },
    {
      "cell_type": "code",
      "source": [
        "# Definir la columna para el análisis de outliers\n",
        "columna = 'Daily_Usage_Hours'\n",
        "\n",
        "# Calcular el primer cuartil (Q1) y el tercer cuartil (Q3)\n",
        "Q1 = df[columna].quantile(0.25)\n",
        "Q3 = df[columna].quantile(0.75)\n",
        "\n",
        "# Calcular el Rango Intercuartílico (IQR)\n",
        "IQR = Q3 - Q1\n",
        "\n",
        "# Definir los límites para los outliers\n",
        "lower_bound = Q1 - 1.5 * IQR\n",
        "upper_bound = Q3 + 1.5 * IQR\n",
        "\n",
        "# Identificar y contar los outliers\n",
        "outliers = df[(df[columna] < lower_bound) | (df[columna] > upper_bound)]\n",
        "\n",
        "print(f\" Se han detectado {len(outliers)} outliers en la columna '{columna}'.\")\n",
        "print(f\"Esto representa el {round(len(outliers)/len(df)*100,2)}% del total de las filas.\")"
      ],
      "metadata": {
        "colab": {
          "base_uri": "https://localhost:8080/"
        },
        "id": "wVQF2hQkdCiL",
        "outputId": "a23f4651-3a97-4a0a-90ca-9890f6722979"
      },
      "execution_count": null,
      "outputs": [
        {
          "output_type": "stream",
          "name": "stdout",
          "text": [
            " Se han detectado 10 outliers en la columna 'Daily_Usage_Hours'.\n",
            "Esto representa el 0.33% del total de las filas.\n"
          ]
        }
      ]
    },
    {
      "cell_type": "markdown",
      "source": [
        "Explicación del Método\n",
        "* Cálculo de Cuartiles y IQR: Primero, se calculan el primer cuartil (Q1) y el tercer cuartil (Q3). El Q1 representa el 25% de los datos y el Q3 el 75%. El Rango Intercuartílico (IQR) es simplemente la diferencia entre el Q3 y el Q1, y abarca el 50% central de los datos.\n",
        "\n",
        "* Definición de Límites: Los límites para los outliers se definen como aquellos valores que están más allá de 1.5×IQR por encima del Q3 o por debajo del Q1. Los valores que caen fuera de estos límites se consideran outliers.\n",
        "\n",
        "**lower_bound = Q1 - 1.5 * IQR**\n",
        "\n",
        "**upper_bound = Q3 + 1.5 * IQR**\n",
        "\n",
        "Interpretación de los Resultados\n",
        "\n",
        "El código finaliza con dos líneas que imprimen el número de outliers detectados y su porcentaje con respecto al total de datos.\n",
        "\n",
        "Se han detectado {len(outliers)} outliers en la columna 'Daily_Usage_Hours'.: Esta línea te dirá exactamente cuántos registros tienen un número de horas de uso diario que se considera atípico según el método del IQR.\n",
        "\n",
        "Esto representa el {round(len(outliers)/len(df)*100,2)}% del total de las filas.: Esta métrica es crucial para entender la magnitud del problema. Por ejemplo, si el porcentaje es muy bajo (ej. menos del 1%), los outliers pueden ser solo casos aislados que no afectan demasiado el análisis. Sin embargo, si el porcentaje es alto, podría indicar una distribución de datos sesgada o la necesidad de una investigación más profunda."
      ],
      "metadata": {
        "id": "2bFYd7bIiwsH"
      }
    }
  ]
}