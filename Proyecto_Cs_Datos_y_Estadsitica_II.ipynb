{
  "nbformat": 4,
  "nbformat_minor": 0,
  "metadata": {
    "colab": {
      "provenance": [],
      "include_colab_link": true
    },
    "kernelspec": {
      "name": "python3",
      "display_name": "Python 3"
    },
    "language_info": {
      "name": "python"
    }
  },
  "cells": [
    {
      "cell_type": "markdown",
      "metadata": {
        "id": "view-in-github",
        "colab_type": "text"
      },
      "source": [
        "<a href=\"https://colab.research.google.com/github/fede-cordoba-Ispc/Cs_Datos_II-Estadistica_II/blob/main/Proyecto_Cs_Datos_y_Estadsitica_II.ipynb\" target=\"_parent\"><img src=\"https://colab.research.google.com/assets/colab-badge.svg\" alt=\"Open In Colab\"/></a>"
      ]
    },
    {
      "cell_type": "markdown",
      "source": [
        "# Nos conectamos al Dataset"
      ],
      "metadata": {
        "id": "ZSaV-tZoKC_L"
      }
    },
    {
      "cell_type": "code",
      "execution_count": 1,
      "metadata": {
        "colab": {
          "base_uri": "https://localhost:8080/",
          "height": 586
        },
        "id": "985z_Mvd5p_M",
        "outputId": "bc600d66-9358-4936-9bfc-8d6e2466586a"
      },
      "outputs": [
        {
          "output_type": "execute_result",
          "data": {
            "text/plain": [
              "   ID               Name  Age  Gender            Location School_Grade  \\\n",
              "0   1    Shannon Francis   13  Female          Hansonfort          9th   \n",
              "1   2    Scott Rodriguez   17  Female        Theodorefort          7th   \n",
              "2   3        Adrian Knox   13   Other         Lindseystad         11th   \n",
              "3   4  Brittany Hamilton   18  Female        West Anthony         12th   \n",
              "4   5       Steven Smith   14   Other    Port Lindsaystad          9th   \n",
              "5   6         Mary Adams   13  Female  East Angelachester         10th   \n",
              "6   7       Hailey Moses   16    Male       North Jeffrey         11th   \n",
              "7   8  Veronica Marshall   13   Other        Jenniferport         10th   \n",
              "8   9       Edward Avila   13    Male             Leebury          8th   \n",
              "9  10       James Carter   18   Other         Prestonview         11th   \n",
              "\n",
              "   Daily_Usage_Hours  Sleep_Hours  Academic_Performance  Social_Interactions  \\\n",
              "0                4.0          6.1                    78                    5   \n",
              "1                5.5          6.5                    70                    5   \n",
              "2                5.8          5.5                    93                    8   \n",
              "3                3.1          3.9                    78                    8   \n",
              "4                2.5          6.7                    56                    4   \n",
              "5                3.9          6.3                    89                    3   \n",
              "6                6.3          6.7                    89                    3   \n",
              "7                5.1          6.1                    70                    2   \n",
              "8                3.0          9.1                    79                    0   \n",
              "9                3.9          5.8                    89                    8   \n",
              "\n",
              "   ...  Screen_Time_Before_Bed  Phone_Checks_Per_Day  Apps_Used_Daily  \\\n",
              "0  ...                     1.4                    86               19   \n",
              "1  ...                     0.9                    96                9   \n",
              "2  ...                     0.5                   137                8   \n",
              "3  ...                     1.4                   128                7   \n",
              "4  ...                     1.0                    96               20   \n",
              "5  ...                     1.1                   135                8   \n",
              "6  ...                     0.8                   129                9   \n",
              "7  ...                     1.0                    34                7   \n",
              "8  ...                     0.9                    70               13   \n",
              "9  ...                     0.9                   121               13   \n",
              "\n",
              "   Time_on_Social_Media  Time_on_Gaming  Time_on_Education  \\\n",
              "0                   3.6             1.7                1.2   \n",
              "1                   1.1             4.0                1.8   \n",
              "2                   0.3             1.5                0.4   \n",
              "3                   3.1             1.6                0.8   \n",
              "4                   2.6             0.9                1.1   \n",
              "5                   3.8             0.0                1.4   \n",
              "6                   1.8             2.7                1.0   \n",
              "7                   2.3             1.6                0.5   \n",
              "8                   2.7             2.2                1.3   \n",
              "9                   2.7             0.4                1.0   \n",
              "\n",
              "   Phone_Usage_Purpose  Family_Communication  Weekend_Usage_Hours  \\\n",
              "0             Browsing                     4                  8.7   \n",
              "1             Browsing                     2                  5.3   \n",
              "2            Education                     6                  5.7   \n",
              "3         Social Media                     8                  3.0   \n",
              "4               Gaming                    10                  3.7   \n",
              "5         Social Media                     7                  6.0   \n",
              "6            Education                     7                  7.8   \n",
              "7             Browsing                     9                  8.0   \n",
              "8            Education                    10                  9.1   \n",
              "9                Other                     9                  2.9   \n",
              "\n",
              "   Addiction_Level  \n",
              "0             10.0  \n",
              "1             10.0  \n",
              "2              9.2  \n",
              "3              9.8  \n",
              "4              8.6  \n",
              "5              8.8  \n",
              "6             10.0  \n",
              "7              8.0  \n",
              "8              7.3  \n",
              "9              9.1  \n",
              "\n",
              "[10 rows x 25 columns]"
            ],
            "text/html": [
              "\n",
              "  <div id=\"df-448248a0-fa6f-491d-be03-6b370cb94c0d\" class=\"colab-df-container\">\n",
              "    <div>\n",
              "<style scoped>\n",
              "    .dataframe tbody tr th:only-of-type {\n",
              "        vertical-align: middle;\n",
              "    }\n",
              "\n",
              "    .dataframe tbody tr th {\n",
              "        vertical-align: top;\n",
              "    }\n",
              "\n",
              "    .dataframe thead th {\n",
              "        text-align: right;\n",
              "    }\n",
              "</style>\n",
              "<table border=\"1\" class=\"dataframe\">\n",
              "  <thead>\n",
              "    <tr style=\"text-align: right;\">\n",
              "      <th></th>\n",
              "      <th>ID</th>\n",
              "      <th>Name</th>\n",
              "      <th>Age</th>\n",
              "      <th>Gender</th>\n",
              "      <th>Location</th>\n",
              "      <th>School_Grade</th>\n",
              "      <th>Daily_Usage_Hours</th>\n",
              "      <th>Sleep_Hours</th>\n",
              "      <th>Academic_Performance</th>\n",
              "      <th>Social_Interactions</th>\n",
              "      <th>...</th>\n",
              "      <th>Screen_Time_Before_Bed</th>\n",
              "      <th>Phone_Checks_Per_Day</th>\n",
              "      <th>Apps_Used_Daily</th>\n",
              "      <th>Time_on_Social_Media</th>\n",
              "      <th>Time_on_Gaming</th>\n",
              "      <th>Time_on_Education</th>\n",
              "      <th>Phone_Usage_Purpose</th>\n",
              "      <th>Family_Communication</th>\n",
              "      <th>Weekend_Usage_Hours</th>\n",
              "      <th>Addiction_Level</th>\n",
              "    </tr>\n",
              "  </thead>\n",
              "  <tbody>\n",
              "    <tr>\n",
              "      <th>0</th>\n",
              "      <td>1</td>\n",
              "      <td>Shannon Francis</td>\n",
              "      <td>13</td>\n",
              "      <td>Female</td>\n",
              "      <td>Hansonfort</td>\n",
              "      <td>9th</td>\n",
              "      <td>4.0</td>\n",
              "      <td>6.1</td>\n",
              "      <td>78</td>\n",
              "      <td>5</td>\n",
              "      <td>...</td>\n",
              "      <td>1.4</td>\n",
              "      <td>86</td>\n",
              "      <td>19</td>\n",
              "      <td>3.6</td>\n",
              "      <td>1.7</td>\n",
              "      <td>1.2</td>\n",
              "      <td>Browsing</td>\n",
              "      <td>4</td>\n",
              "      <td>8.7</td>\n",
              "      <td>10.0</td>\n",
              "    </tr>\n",
              "    <tr>\n",
              "      <th>1</th>\n",
              "      <td>2</td>\n",
              "      <td>Scott Rodriguez</td>\n",
              "      <td>17</td>\n",
              "      <td>Female</td>\n",
              "      <td>Theodorefort</td>\n",
              "      <td>7th</td>\n",
              "      <td>5.5</td>\n",
              "      <td>6.5</td>\n",
              "      <td>70</td>\n",
              "      <td>5</td>\n",
              "      <td>...</td>\n",
              "      <td>0.9</td>\n",
              "      <td>96</td>\n",
              "      <td>9</td>\n",
              "      <td>1.1</td>\n",
              "      <td>4.0</td>\n",
              "      <td>1.8</td>\n",
              "      <td>Browsing</td>\n",
              "      <td>2</td>\n",
              "      <td>5.3</td>\n",
              "      <td>10.0</td>\n",
              "    </tr>\n",
              "    <tr>\n",
              "      <th>2</th>\n",
              "      <td>3</td>\n",
              "      <td>Adrian Knox</td>\n",
              "      <td>13</td>\n",
              "      <td>Other</td>\n",
              "      <td>Lindseystad</td>\n",
              "      <td>11th</td>\n",
              "      <td>5.8</td>\n",
              "      <td>5.5</td>\n",
              "      <td>93</td>\n",
              "      <td>8</td>\n",
              "      <td>...</td>\n",
              "      <td>0.5</td>\n",
              "      <td>137</td>\n",
              "      <td>8</td>\n",
              "      <td>0.3</td>\n",
              "      <td>1.5</td>\n",
              "      <td>0.4</td>\n",
              "      <td>Education</td>\n",
              "      <td>6</td>\n",
              "      <td>5.7</td>\n",
              "      <td>9.2</td>\n",
              "    </tr>\n",
              "    <tr>\n",
              "      <th>3</th>\n",
              "      <td>4</td>\n",
              "      <td>Brittany Hamilton</td>\n",
              "      <td>18</td>\n",
              "      <td>Female</td>\n",
              "      <td>West Anthony</td>\n",
              "      <td>12th</td>\n",
              "      <td>3.1</td>\n",
              "      <td>3.9</td>\n",
              "      <td>78</td>\n",
              "      <td>8</td>\n",
              "      <td>...</td>\n",
              "      <td>1.4</td>\n",
              "      <td>128</td>\n",
              "      <td>7</td>\n",
              "      <td>3.1</td>\n",
              "      <td>1.6</td>\n",
              "      <td>0.8</td>\n",
              "      <td>Social Media</td>\n",
              "      <td>8</td>\n",
              "      <td>3.0</td>\n",
              "      <td>9.8</td>\n",
              "    </tr>\n",
              "    <tr>\n",
              "      <th>4</th>\n",
              "      <td>5</td>\n",
              "      <td>Steven Smith</td>\n",
              "      <td>14</td>\n",
              "      <td>Other</td>\n",
              "      <td>Port Lindsaystad</td>\n",
              "      <td>9th</td>\n",
              "      <td>2.5</td>\n",
              "      <td>6.7</td>\n",
              "      <td>56</td>\n",
              "      <td>4</td>\n",
              "      <td>...</td>\n",
              "      <td>1.0</td>\n",
              "      <td>96</td>\n",
              "      <td>20</td>\n",
              "      <td>2.6</td>\n",
              "      <td>0.9</td>\n",
              "      <td>1.1</td>\n",
              "      <td>Gaming</td>\n",
              "      <td>10</td>\n",
              "      <td>3.7</td>\n",
              "      <td>8.6</td>\n",
              "    </tr>\n",
              "    <tr>\n",
              "      <th>5</th>\n",
              "      <td>6</td>\n",
              "      <td>Mary Adams</td>\n",
              "      <td>13</td>\n",
              "      <td>Female</td>\n",
              "      <td>East Angelachester</td>\n",
              "      <td>10th</td>\n",
              "      <td>3.9</td>\n",
              "      <td>6.3</td>\n",
              "      <td>89</td>\n",
              "      <td>3</td>\n",
              "      <td>...</td>\n",
              "      <td>1.1</td>\n",
              "      <td>135</td>\n",
              "      <td>8</td>\n",
              "      <td>3.8</td>\n",
              "      <td>0.0</td>\n",
              "      <td>1.4</td>\n",
              "      <td>Social Media</td>\n",
              "      <td>7</td>\n",
              "      <td>6.0</td>\n",
              "      <td>8.8</td>\n",
              "    </tr>\n",
              "    <tr>\n",
              "      <th>6</th>\n",
              "      <td>7</td>\n",
              "      <td>Hailey Moses</td>\n",
              "      <td>16</td>\n",
              "      <td>Male</td>\n",
              "      <td>North Jeffrey</td>\n",
              "      <td>11th</td>\n",
              "      <td>6.3</td>\n",
              "      <td>6.7</td>\n",
              "      <td>89</td>\n",
              "      <td>3</td>\n",
              "      <td>...</td>\n",
              "      <td>0.8</td>\n",
              "      <td>129</td>\n",
              "      <td>9</td>\n",
              "      <td>1.8</td>\n",
              "      <td>2.7</td>\n",
              "      <td>1.0</td>\n",
              "      <td>Education</td>\n",
              "      <td>7</td>\n",
              "      <td>7.8</td>\n",
              "      <td>10.0</td>\n",
              "    </tr>\n",
              "    <tr>\n",
              "      <th>7</th>\n",
              "      <td>8</td>\n",
              "      <td>Veronica Marshall</td>\n",
              "      <td>13</td>\n",
              "      <td>Other</td>\n",
              "      <td>Jenniferport</td>\n",
              "      <td>10th</td>\n",
              "      <td>5.1</td>\n",
              "      <td>6.1</td>\n",
              "      <td>70</td>\n",
              "      <td>2</td>\n",
              "      <td>...</td>\n",
              "      <td>1.0</td>\n",
              "      <td>34</td>\n",
              "      <td>7</td>\n",
              "      <td>2.3</td>\n",
              "      <td>1.6</td>\n",
              "      <td>0.5</td>\n",
              "      <td>Browsing</td>\n",
              "      <td>9</td>\n",
              "      <td>8.0</td>\n",
              "      <td>8.0</td>\n",
              "    </tr>\n",
              "    <tr>\n",
              "      <th>8</th>\n",
              "      <td>9</td>\n",
              "      <td>Edward Avila</td>\n",
              "      <td>13</td>\n",
              "      <td>Male</td>\n",
              "      <td>Leebury</td>\n",
              "      <td>8th</td>\n",
              "      <td>3.0</td>\n",
              "      <td>9.1</td>\n",
              "      <td>79</td>\n",
              "      <td>0</td>\n",
              "      <td>...</td>\n",
              "      <td>0.9</td>\n",
              "      <td>70</td>\n",
              "      <td>13</td>\n",
              "      <td>2.7</td>\n",
              "      <td>2.2</td>\n",
              "      <td>1.3</td>\n",
              "      <td>Education</td>\n",
              "      <td>10</td>\n",
              "      <td>9.1</td>\n",
              "      <td>7.3</td>\n",
              "    </tr>\n",
              "    <tr>\n",
              "      <th>9</th>\n",
              "      <td>10</td>\n",
              "      <td>James Carter</td>\n",
              "      <td>18</td>\n",
              "      <td>Other</td>\n",
              "      <td>Prestonview</td>\n",
              "      <td>11th</td>\n",
              "      <td>3.9</td>\n",
              "      <td>5.8</td>\n",
              "      <td>89</td>\n",
              "      <td>8</td>\n",
              "      <td>...</td>\n",
              "      <td>0.9</td>\n",
              "      <td>121</td>\n",
              "      <td>13</td>\n",
              "      <td>2.7</td>\n",
              "      <td>0.4</td>\n",
              "      <td>1.0</td>\n",
              "      <td>Other</td>\n",
              "      <td>9</td>\n",
              "      <td>2.9</td>\n",
              "      <td>9.1</td>\n",
              "    </tr>\n",
              "  </tbody>\n",
              "</table>\n",
              "<p>10 rows × 25 columns</p>\n",
              "</div>\n",
              "    <div class=\"colab-df-buttons\">\n",
              "\n",
              "  <div class=\"colab-df-container\">\n",
              "    <button class=\"colab-df-convert\" onclick=\"convertToInteractive('df-448248a0-fa6f-491d-be03-6b370cb94c0d')\"\n",
              "            title=\"Convert this dataframe to an interactive table.\"\n",
              "            style=\"display:none;\">\n",
              "\n",
              "  <svg xmlns=\"http://www.w3.org/2000/svg\" height=\"24px\" viewBox=\"0 -960 960 960\">\n",
              "    <path d=\"M120-120v-720h720v720H120Zm60-500h600v-160H180v160Zm220 220h160v-160H400v160Zm0 220h160v-160H400v160ZM180-400h160v-160H180v160Zm440 0h160v-160H620v160ZM180-180h160v-160H180v160Zm440 0h160v-160H620v160Z\"/>\n",
              "  </svg>\n",
              "    </button>\n",
              "\n",
              "  <style>\n",
              "    .colab-df-container {\n",
              "      display:flex;\n",
              "      gap: 12px;\n",
              "    }\n",
              "\n",
              "    .colab-df-convert {\n",
              "      background-color: #E8F0FE;\n",
              "      border: none;\n",
              "      border-radius: 50%;\n",
              "      cursor: pointer;\n",
              "      display: none;\n",
              "      fill: #1967D2;\n",
              "      height: 32px;\n",
              "      padding: 0 0 0 0;\n",
              "      width: 32px;\n",
              "    }\n",
              "\n",
              "    .colab-df-convert:hover {\n",
              "      background-color: #E2EBFA;\n",
              "      box-shadow: 0px 1px 2px rgba(60, 64, 67, 0.3), 0px 1px 3px 1px rgba(60, 64, 67, 0.15);\n",
              "      fill: #174EA6;\n",
              "    }\n",
              "\n",
              "    .colab-df-buttons div {\n",
              "      margin-bottom: 4px;\n",
              "    }\n",
              "\n",
              "    [theme=dark] .colab-df-convert {\n",
              "      background-color: #3B4455;\n",
              "      fill: #D2E3FC;\n",
              "    }\n",
              "\n",
              "    [theme=dark] .colab-df-convert:hover {\n",
              "      background-color: #434B5C;\n",
              "      box-shadow: 0px 1px 3px 1px rgba(0, 0, 0, 0.15);\n",
              "      filter: drop-shadow(0px 1px 2px rgba(0, 0, 0, 0.3));\n",
              "      fill: #FFFFFF;\n",
              "    }\n",
              "  </style>\n",
              "\n",
              "    <script>\n",
              "      const buttonEl =\n",
              "        document.querySelector('#df-448248a0-fa6f-491d-be03-6b370cb94c0d button.colab-df-convert');\n",
              "      buttonEl.style.display =\n",
              "        google.colab.kernel.accessAllowed ? 'block' : 'none';\n",
              "\n",
              "      async function convertToInteractive(key) {\n",
              "        const element = document.querySelector('#df-448248a0-fa6f-491d-be03-6b370cb94c0d');\n",
              "        const dataTable =\n",
              "          await google.colab.kernel.invokeFunction('convertToInteractive',\n",
              "                                                    [key], {});\n",
              "        if (!dataTable) return;\n",
              "\n",
              "        const docLinkHtml = 'Like what you see? Visit the ' +\n",
              "          '<a target=\"_blank\" href=https://colab.research.google.com/notebooks/data_table.ipynb>data table notebook</a>'\n",
              "          + ' to learn more about interactive tables.';\n",
              "        element.innerHTML = '';\n",
              "        dataTable['output_type'] = 'display_data';\n",
              "        await google.colab.output.renderOutput(dataTable, element);\n",
              "        const docLink = document.createElement('div');\n",
              "        docLink.innerHTML = docLinkHtml;\n",
              "        element.appendChild(docLink);\n",
              "      }\n",
              "    </script>\n",
              "  </div>\n",
              "\n",
              "\n",
              "    <div id=\"df-b13d9649-91ed-4d4b-bba1-051e4acbc348\">\n",
              "      <button class=\"colab-df-quickchart\" onclick=\"quickchart('df-b13d9649-91ed-4d4b-bba1-051e4acbc348')\"\n",
              "                title=\"Suggest charts\"\n",
              "                style=\"display:none;\">\n",
              "\n",
              "<svg xmlns=\"http://www.w3.org/2000/svg\" height=\"24px\"viewBox=\"0 0 24 24\"\n",
              "     width=\"24px\">\n",
              "    <g>\n",
              "        <path d=\"M19 3H5c-1.1 0-2 .9-2 2v14c0 1.1.9 2 2 2h14c1.1 0 2-.9 2-2V5c0-1.1-.9-2-2-2zM9 17H7v-7h2v7zm4 0h-2V7h2v10zm4 0h-2v-4h2v4z\"/>\n",
              "    </g>\n",
              "</svg>\n",
              "      </button>\n",
              "\n",
              "<style>\n",
              "  .colab-df-quickchart {\n",
              "      --bg-color: #E8F0FE;\n",
              "      --fill-color: #1967D2;\n",
              "      --hover-bg-color: #E2EBFA;\n",
              "      --hover-fill-color: #174EA6;\n",
              "      --disabled-fill-color: #AAA;\n",
              "      --disabled-bg-color: #DDD;\n",
              "  }\n",
              "\n",
              "  [theme=dark] .colab-df-quickchart {\n",
              "      --bg-color: #3B4455;\n",
              "      --fill-color: #D2E3FC;\n",
              "      --hover-bg-color: #434B5C;\n",
              "      --hover-fill-color: #FFFFFF;\n",
              "      --disabled-bg-color: #3B4455;\n",
              "      --disabled-fill-color: #666;\n",
              "  }\n",
              "\n",
              "  .colab-df-quickchart {\n",
              "    background-color: var(--bg-color);\n",
              "    border: none;\n",
              "    border-radius: 50%;\n",
              "    cursor: pointer;\n",
              "    display: none;\n",
              "    fill: var(--fill-color);\n",
              "    height: 32px;\n",
              "    padding: 0;\n",
              "    width: 32px;\n",
              "  }\n",
              "\n",
              "  .colab-df-quickchart:hover {\n",
              "    background-color: var(--hover-bg-color);\n",
              "    box-shadow: 0 1px 2px rgba(60, 64, 67, 0.3), 0 1px 3px 1px rgba(60, 64, 67, 0.15);\n",
              "    fill: var(--button-hover-fill-color);\n",
              "  }\n",
              "\n",
              "  .colab-df-quickchart-complete:disabled,\n",
              "  .colab-df-quickchart-complete:disabled:hover {\n",
              "    background-color: var(--disabled-bg-color);\n",
              "    fill: var(--disabled-fill-color);\n",
              "    box-shadow: none;\n",
              "  }\n",
              "\n",
              "  .colab-df-spinner {\n",
              "    border: 2px solid var(--fill-color);\n",
              "    border-color: transparent;\n",
              "    border-bottom-color: var(--fill-color);\n",
              "    animation:\n",
              "      spin 1s steps(1) infinite;\n",
              "  }\n",
              "\n",
              "  @keyframes spin {\n",
              "    0% {\n",
              "      border-color: transparent;\n",
              "      border-bottom-color: var(--fill-color);\n",
              "      border-left-color: var(--fill-color);\n",
              "    }\n",
              "    20% {\n",
              "      border-color: transparent;\n",
              "      border-left-color: var(--fill-color);\n",
              "      border-top-color: var(--fill-color);\n",
              "    }\n",
              "    30% {\n",
              "      border-color: transparent;\n",
              "      border-left-color: var(--fill-color);\n",
              "      border-top-color: var(--fill-color);\n",
              "      border-right-color: var(--fill-color);\n",
              "    }\n",
              "    40% {\n",
              "      border-color: transparent;\n",
              "      border-right-color: var(--fill-color);\n",
              "      border-top-color: var(--fill-color);\n",
              "    }\n",
              "    60% {\n",
              "      border-color: transparent;\n",
              "      border-right-color: var(--fill-color);\n",
              "    }\n",
              "    80% {\n",
              "      border-color: transparent;\n",
              "      border-right-color: var(--fill-color);\n",
              "      border-bottom-color: var(--fill-color);\n",
              "    }\n",
              "    90% {\n",
              "      border-color: transparent;\n",
              "      border-bottom-color: var(--fill-color);\n",
              "    }\n",
              "  }\n",
              "</style>\n",
              "\n",
              "      <script>\n",
              "        async function quickchart(key) {\n",
              "          const quickchartButtonEl =\n",
              "            document.querySelector('#' + key + ' button');\n",
              "          quickchartButtonEl.disabled = true;  // To prevent multiple clicks.\n",
              "          quickchartButtonEl.classList.add('colab-df-spinner');\n",
              "          try {\n",
              "            const charts = await google.colab.kernel.invokeFunction(\n",
              "                'suggestCharts', [key], {});\n",
              "          } catch (error) {\n",
              "            console.error('Error during call to suggestCharts:', error);\n",
              "          }\n",
              "          quickchartButtonEl.classList.remove('colab-df-spinner');\n",
              "          quickchartButtonEl.classList.add('colab-df-quickchart-complete');\n",
              "        }\n",
              "        (() => {\n",
              "          let quickchartButtonEl =\n",
              "            document.querySelector('#df-b13d9649-91ed-4d4b-bba1-051e4acbc348 button');\n",
              "          quickchartButtonEl.style.display =\n",
              "            google.colab.kernel.accessAllowed ? 'block' : 'none';\n",
              "        })();\n",
              "      </script>\n",
              "    </div>\n",
              "\n",
              "    </div>\n",
              "  </div>\n"
            ],
            "application/vnd.google.colaboratory.intrinsic+json": {
              "type": "dataframe",
              "variable_name": "df"
            }
          },
          "metadata": {},
          "execution_count": 1
        }
      ],
      "source": [
        "import pandas as pd\n",
        "url = \"https://raw.githubusercontent.com/fede-cordoba-Ispc/Cs_Datos_II-Estadistica_II/refs/heads/main/Datos/teen_phone_addiction_dataset.csv\"\n",
        "df = pd.read_csv(url)\n",
        "df.head(10)"
      ]
    },
    {
      "cell_type": "markdown",
      "source": [
        "# Muestra el tipo de dato de cada columna para empezar"
      ],
      "metadata": {
        "id": "AoaeEtvtJ8T7"
      }
    },
    {
      "cell_type": "code",
      "source": [
        "\n",
        "print(df.info())"
      ],
      "metadata": {
        "colab": {
          "base_uri": "https://localhost:8080/"
        },
        "id": "BauiJZWM_qbb",
        "outputId": "09ab5db3-341e-40b2-aebf-02d27beaf629"
      },
      "execution_count": 2,
      "outputs": [
        {
          "output_type": "stream",
          "name": "stdout",
          "text": [
            "<class 'pandas.core.frame.DataFrame'>\n",
            "RangeIndex: 3000 entries, 0 to 2999\n",
            "Data columns (total 25 columns):\n",
            " #   Column                  Non-Null Count  Dtype  \n",
            "---  ------                  --------------  -----  \n",
            " 0   ID                      3000 non-null   int64  \n",
            " 1   Name                    3000 non-null   object \n",
            " 2   Age                     3000 non-null   int64  \n",
            " 3   Gender                  3000 non-null   object \n",
            " 4   Location                3000 non-null   object \n",
            " 5   School_Grade            3000 non-null   object \n",
            " 6   Daily_Usage_Hours       3000 non-null   float64\n",
            " 7   Sleep_Hours             3000 non-null   float64\n",
            " 8   Academic_Performance    3000 non-null   int64  \n",
            " 9   Social_Interactions     3000 non-null   int64  \n",
            " 10  Exercise_Hours          3000 non-null   float64\n",
            " 11  Anxiety_Level           3000 non-null   int64  \n",
            " 12  Depression_Level        3000 non-null   int64  \n",
            " 13  Self_Esteem             3000 non-null   int64  \n",
            " 14  Parental_Control        3000 non-null   int64  \n",
            " 15  Screen_Time_Before_Bed  3000 non-null   float64\n",
            " 16  Phone_Checks_Per_Day    3000 non-null   int64  \n",
            " 17  Apps_Used_Daily         3000 non-null   int64  \n",
            " 18  Time_on_Social_Media    3000 non-null   float64\n",
            " 19  Time_on_Gaming          3000 non-null   float64\n",
            " 20  Time_on_Education       3000 non-null   float64\n",
            " 21  Phone_Usage_Purpose     3000 non-null   object \n",
            " 22  Family_Communication    3000 non-null   int64  \n",
            " 23  Weekend_Usage_Hours     3000 non-null   float64\n",
            " 24  Addiction_Level         3000 non-null   float64\n",
            "dtypes: float64(9), int64(11), object(5)\n",
            "memory usage: 586.1+ KB\n",
            "None\n"
          ]
        }
      ]
    },
    {
      "cell_type": "markdown",
      "source": [
        "# Muestra las dimesiones del Dataset"
      ],
      "metadata": {
        "id": "Op7rhb6XLLFZ"
      }
    },
    {
      "cell_type": "code",
      "source": [
        "dimensiones = df.shape\n",
        "\n",
        "print(\"Dimensiones del DataFrame:\", dimensiones)\n",
        "print(\"Filas:\", dimensiones[0])\n",
        "print(\"Columnas:\", dimensiones[1])"
      ],
      "metadata": {
        "colab": {
          "base_uri": "https://localhost:8080/"
        },
        "id": "s0bshMEHLQXp",
        "outputId": "b1281c0e-5959-4e80-fa45-39e54162f7a7"
      },
      "execution_count": 3,
      "outputs": [
        {
          "output_type": "stream",
          "name": "stdout",
          "text": [
            "Dimensiones del DataFrame: (3000, 25)\n",
            "Filas: 3000\n",
            "Columnas: 25\n"
          ]
        }
      ]
    },
    {
      "cell_type": "markdown",
      "source": [
        "#**Acerca del conjunto de datos**\n",
        "https://www.kaggle.com/datasets/sumedh1507/teen-phone-addiction/data  \n",
        "Licencia CC0: Dominio público  \n",
        "\n",
        "\n",
        "###**Metodología de recopilación**\n",
        "Recopilación de datos basada en encuestas: Los datos se recopilaron de estudiantes de secundaria y de universidad (de 13 a 21 años) mediante encuestas estructuradas. Voluntaria y anónima: La participación fue voluntaria y se reemplazó  toda información de identificación para proteger la privacidad. Intervalo temporal con datos ficticios: Los datos se recopilaron durante un período de 3 meses en varias escuelas urbanas y semiurbanas. *Consentimiento*: Todos los participantes (o sus tutores) dieron su consentimiento para el uso anónimo de los datos en la investigación.\n",
        "\n",
        "\n",
        "###**Descripción**\n",
        "Este conjunto de datos se centra en comprender los patrones y efectos del uso de teléfonos inteligentes entre adolescentes\n",
        "\n",
        "\n",
        "**ID**\n",
        "Identificador único para cada adolescente en números enteros desde el 1.  \n",
        "**Name**\n",
        "El nombre de los participantes en el estudio. Dichos nombres son ficticios, ya que se trata de una encuesta anónima y por seguridad del encuestado.  \n",
        "**Age**\n",
        "La edad del adolescente expresado en años.  \n",
        "**Gender**\n",
        "El género reportado por el adolescente. (Femenino, Masculino, Otro)  \n",
        "**Location**\n",
        "La ciudad de residencia del adolescente, las cuales son ficticias para seguridad del encuestado.   \n",
        "**School_Grade**\n",
        "El grado escolar del adolescente. El grado escolar del sistema estadounidense de 7° a 12° año se corresponde con el 1° a 6° año del nivel secundario en el sistema argentino.  \n",
        "**Daily_Usage_Hours**\n",
        "Horas diarias que el adolescente pasa usando su teléfono.  \n",
        "**Sleep_Hours**\n",
        "El número de horas que el adolescente duerme cada noche.  \n",
        "**Academic_Performance**\n",
        "La calificación de rendimiento académico del adolescente (en una escala de 0 a 100).  \n",
        "**Social_Interactions**\n",
        "El número de interacciones sociales que el adolescente tiene cara a cara.  \n",
        "**Exercise_Hours**\n",
        "Las horas que el adolescente dedica a hacer ejercicio por semana.  \n",
        "**Anxiety_Level**\n",
        "El nivel de ansiedad del adolescente medido de 0 a 10, siendo 0 sin ansiedad y 10 nivel alto de ansiedad.  \n",
        "**Depression_Level**\n",
        "El nivel de depresión del adolescente medido de 0 a 10, siendo 0 sin depresión  y 10 nivel alto de depresión.  \n",
        "**Self_Esteem**\n",
        "El nivel de autoestima del adolescente medido de 0 a 10, siendo 0 nivel muy bajo y 10 nivel alto de autoestima.  \n",
        "**Parental_Control**\n",
        "Un valor binario que indica si hay control parental sobre el uso del teléfono (0=No, 1=Sí).  \n",
        "**Screen_Time_Before_Bed**\n",
        "La cantidad de tiempo de pantalla que el adolescente tiene antes de dormir, medido en horas.  \n",
        "**Phone_Checks_Per_Day**\n",
        "La cantidad de veces que el adolescente revisa su teléfono al día.  \n",
        "**Apps_Used_Daily**\n",
        "El número de aplicaciones diferentes que el adolescente usa a diario.  \n",
        "**Time_on_Social_Media**\n",
        "Horas que el adolescente pasa en redes sociales.  \n",
        "**Time_on_Gaming**\n",
        "Horas que el adolescente dedica a juegos en el teléfono.  \n",
        "**Time_on_Education**\n",
        "Horas que el adolescente usa el teléfono para fines educativos.  \n",
        "**Phone_Usage_Purpose**\n",
        "El propósito principal del uso del teléfono por parte del adolescente. (Hojeada, Educación, Redes Sociales, Juegos de azar, otro).  \n",
        "**Family_Communication**\n",
        "La calidad de la comunicación entre el adolescente y su familia, medido en una escala del 0 al 10, siendo 0 mala calidad y 10 muy buena calidad de comunicación.  \n",
        "**Weekend_Usage_Hours**\n",
        "Las horas que el adolescente usa el teléfono durante los fines de semana.  \n",
        "**Addiction_Level**\n",
        "El nivel autopercibido de adicción al teléfono del adolescente en una escala del 1 al 10, siendo 1 el valor de mínima, sin adicción y 10 el nivel máximo o mucha adicción.\n",
        "\n",
        "\n",
        "###NOTA ACLARATORIA\n",
        "La columna Academic_Performance: Este sistema de puntuación es común en las escuelas secundarias (High School) de Estados Unidos, se expresa con una escala numérica y su correspondiente letra. La escala de letras va de A (excelente) a F (reprobado). Esta calificación se usa para calcular el GPA (Grade Point Average), que es un promedio ponderado de todas las notas del estudiante y un factor clave para la admisión a la universidad.  \n",
        "Aproximadamente, la correspondencia es la siguiente:  \n",
        "A: 90 - 100 (Excelente)  \n",
        "B: 80 - 89 (Bueno)  \n",
        "C: 70 - 79 (Aceptable)  \n",
        "D: 60 - 69 (Deficiente)  \n",
        "En Argentina, el sistema de calificación más utilizado es una escala numérica del 1 al 10. No existe un sistema unificado para todo el país, y la nota mínima para aprobar puede variar entre un 6 y un 7 dependiendo de la provincia y la institución educativa.  \n",
        "La comparación aproximada sería la siguiente:  \n",
        "Calificación en EE.UU. (Escala de 100)  \n",
        "Calificación en Argentina (Escala de 10)  \n",
        "90-100 -> 9-10 (Sobresaliente)  \n",
        "80-89 -> 7-8 (Notable)  \n",
        "70-79 -> 6-7 (Aprobado/Bueno)  \n",
        "60-69 -> 4-5 (Insuficiente/Desaprobado)  \n",
        "< 60  -> 1-3 (Reprobado)\n",
        "\n",
        "Es importante destacar que el sistema educativo estadounidense valora el trabajo diario, los proyectos y las participaciones, mientras que el argentino, aunque ha incorporado más evaluaciones continuas, tradicionalmente se ha enfocado en las notas de los exámenes.\n",
        "\n",
        "\n"
      ],
      "metadata": {
        "id": "05nECYKPADBc"
      }
    },
    {
      "cell_type": "markdown",
      "source": [
        "## Fila con valores nulos y su porcentaje"
      ],
      "metadata": {
        "id": "hJvNdnTmNPiz"
      }
    },
    {
      "cell_type": "code",
      "source": [
        "valores_nulos_por_fila = df.isnull().sum(axis=1)\n",
        "agrupado = valores_nulos_por_fila.value_counts().sort_index()\n",
        "total_filas = len(df)\n",
        "\n",
        "tabla = pd.DataFrame({\n",
        "    \"Cantidad de nulos\": agrupado.index,\n",
        "    \"Número de filas\": agrupado.values,\n",
        "    \"Porcentaje (%)\": (agrupado.index / total_filas * 100).round(2)\n",
        "})\n",
        "\n",
        "print(\"Cantidad de filas según número de valores nulos:\\n\")\n",
        "print(tabla.to_string(index=False))"
      ],
      "metadata": {
        "colab": {
          "base_uri": "https://localhost:8080/"
        },
        "id": "jvS2u0UBNVqj",
        "outputId": "a7e84daa-7d54-4550-c02a-1f4da926059d"
      },
      "execution_count": 4,
      "outputs": [
        {
          "output_type": "stream",
          "name": "stdout",
          "text": [
            "Cantidad de filas según número de valores nulos:\n",
            "\n",
            " Cantidad de nulos  Número de filas  Porcentaje (%)\n",
            "                 0             3000             0.0\n"
          ]
        }
      ]
    },
    {
      "cell_type": "markdown",
      "source": [
        "## Columnas con valores nulos y su porcentaje"
      ],
      "metadata": {
        "id": "ygMU16KfRltr"
      }
    },
    {
      "cell_type": "code",
      "source": [
        "resumen_nulos = pd.DataFrame({\n",
        "    'Nulos': df.isnull().sum(),\n",
        "    'Porcentaje (%)': df.isnull().mean() * 100\n",
        "}).sort_values(by='Nulos', ascending=False)\n",
        "\n",
        "print(resumen_nulos)"
      ],
      "metadata": {
        "colab": {
          "base_uri": "https://localhost:8080/"
        },
        "id": "P51X0corRfN4",
        "outputId": "58d639a7-8bcc-42f6-f746-979219fd8b59"
      },
      "execution_count": 5,
      "outputs": [
        {
          "output_type": "stream",
          "name": "stdout",
          "text": [
            "                        Nulos  Porcentaje (%)\n",
            "ID                          0             0.0\n",
            "Name                        0             0.0\n",
            "Age                         0             0.0\n",
            "Gender                      0             0.0\n",
            "Location                    0             0.0\n",
            "School_Grade                0             0.0\n",
            "Daily_Usage_Hours           0             0.0\n",
            "Sleep_Hours                 0             0.0\n",
            "Academic_Performance        0             0.0\n",
            "Social_Interactions         0             0.0\n",
            "Exercise_Hours              0             0.0\n",
            "Anxiety_Level               0             0.0\n",
            "Depression_Level            0             0.0\n",
            "Self_Esteem                 0             0.0\n",
            "Parental_Control            0             0.0\n",
            "Screen_Time_Before_Bed      0             0.0\n",
            "Phone_Checks_Per_Day        0             0.0\n",
            "Apps_Used_Daily             0             0.0\n",
            "Time_on_Social_Media        0             0.0\n",
            "Time_on_Gaming              0             0.0\n",
            "Time_on_Education           0             0.0\n",
            "Phone_Usage_Purpose         0             0.0\n",
            "Family_Communication        0             0.0\n",
            "Weekend_Usage_Hours         0             0.0\n",
            "Addiction_Level             0             0.0\n"
          ]
        }
      ]
    },
    {
      "cell_type": "markdown",
      "source": [
        "## Filas y columnas completamente vacias"
      ],
      "metadata": {
        "id": "bfF3VwDgYYUv"
      }
    },
    {
      "cell_type": "code",
      "source": [
        "# Calcular si hay filas completamente vacías\n",
        "filas_vacias = df.isnull().all(axis=1).any()\n",
        "columnas_vacias = df.isnull().all(axis=0).any()\n",
        "\n",
        "# Mostrar \"Sí\" o \"No\"\n",
        "print(\"¿Hay filas completamente vacías?:\", \"Sí\" if filas_vacias else \"No\")\n",
        "print(\"¿Hay columnas completamente vacías?:\", \"Sí\" if columnas_vacias else \"No\")"
      ],
      "metadata": {
        "colab": {
          "base_uri": "https://localhost:8080/"
        },
        "id": "_tbQomP6TeRX",
        "outputId": "9946067a-86b9-4c4d-cbcd-a3d44cae31e9"
      },
      "execution_count": 6,
      "outputs": [
        {
          "output_type": "stream",
          "name": "stdout",
          "text": [
            "¿Hay filas completamente vacías?: No\n",
            "¿Hay columnas completamente vacías?: No\n"
          ]
        }
      ]
    },
    {
      "cell_type": "markdown",
      "source": [
        "## Descripcion del Dataset"
      ],
      "metadata": {
        "id": "dUoan_28Yue8"
      }
    },
    {
      "cell_type": "code",
      "source": [
        "desc = df.describe()\n",
        "print(\"\\nDescribe transpuesto:\\n\", desc.T)"
      ],
      "metadata": {
        "colab": {
          "base_uri": "https://localhost:8080/"
        },
        "id": "SZBtpjDrX8RY",
        "outputId": "16208e48-0302-4d1f-b645-012d3303e8f1"
      },
      "execution_count": 7,
      "outputs": [
        {
          "output_type": "stream",
          "name": "stdout",
          "text": [
            "\n",
            "Describe transpuesto:\n",
            "                          count         mean         std   min     25%     50%  \\\n",
            "ID                      3000.0  1500.500000  866.169729   1.0  750.75  1500.5   \n",
            "Age                     3000.0    15.969667    1.989489  13.0   14.00    16.0   \n",
            "Daily_Usage_Hours       3000.0     5.020667    1.956501   0.0    3.70     5.0   \n",
            "Sleep_Hours             3000.0     6.489767    1.490713   3.0    5.50     6.5   \n",
            "Academic_Performance    3000.0    74.947333   14.684156  50.0   62.00    75.0   \n",
            "Social_Interactions     3000.0     5.097667    3.139333   0.0    2.00     5.0   \n",
            "Exercise_Hours          3000.0     1.040667    0.734620   0.0    0.50     1.0   \n",
            "Anxiety_Level           3000.0     5.590000    2.890678   1.0    3.00     6.0   \n",
            "Depression_Level        3000.0     5.460333    2.871557   1.0    3.00     5.0   \n",
            "Self_Esteem             3000.0     5.546333    2.860754   1.0    3.00     6.0   \n",
            "Parental_Control        3000.0     0.507333    0.500030   0.0    0.00     1.0   \n",
            "Screen_Time_Before_Bed  3000.0     1.006733    0.492878   0.0    0.70     1.0   \n",
            "Phone_Checks_Per_Day    3000.0    83.093000   37.747044  20.0   51.00    82.0   \n",
            "Apps_Used_Daily         3000.0    12.609333    4.611486   5.0    9.00    13.0   \n",
            "Time_on_Social_Media    3000.0     2.499233    0.988201   0.0    1.80     2.5   \n",
            "Time_on_Gaming          3000.0     1.525267    0.932701   0.0    0.80     1.5   \n",
            "Time_on_Education       3000.0     1.016333    0.648341   0.0    0.50     1.0   \n",
            "Family_Communication    3000.0     5.459667    2.864572   1.0    3.00     5.0   \n",
            "Weekend_Usage_Hours     3000.0     6.015100    2.014776   0.0    4.70     6.0   \n",
            "Addiction_Level         3000.0     8.881900    1.609598   1.0    8.00    10.0   \n",
            "\n",
            "                            75%     max  \n",
            "ID                      2250.25  3000.0  \n",
            "Age                       18.00    19.0  \n",
            "Daily_Usage_Hours          6.40    11.5  \n",
            "Sleep_Hours                7.50    10.0  \n",
            "Academic_Performance      88.00   100.0  \n",
            "Social_Interactions        8.00    10.0  \n",
            "Exercise_Hours             1.50     4.0  \n",
            "Anxiety_Level              8.00    10.0  \n",
            "Depression_Level           8.00    10.0  \n",
            "Self_Esteem                8.00    10.0  \n",
            "Parental_Control           1.00     1.0  \n",
            "Screen_Time_Before_Bed     1.40     2.6  \n",
            "Phone_Checks_Per_Day     115.25   150.0  \n",
            "Apps_Used_Daily           17.00    20.0  \n",
            "Time_on_Social_Media       3.20     5.0  \n",
            "Time_on_Gaming             2.20     4.0  \n",
            "Time_on_Education          1.50     3.0  \n",
            "Family_Communication       8.00    10.0  \n",
            "Weekend_Usage_Hours        7.40    14.0  \n",
            "Addiction_Level           10.00    10.0  \n"
          ]
        }
      ]
    },
    {
      "cell_type": "markdown",
      "source": [
        "**Qué hace este código**\n",
        "\n",
        "\n",
        "\n",
        "1.   Detecta las columnas que son de tipo object o category (categóricas).\n",
        "2.   Para cada columna, muestra los valores únicos y cuántas veces aparecen, incluyendo los valores faltantes (NaN).\n",
        "\n",
        "\n",
        "3.   Esto te permite ver inconsistencias, como:\n",
        "\n",
        "  *   Diferencias de mayúsculas/minúsculas (Sí vs si)\n",
        "\n",
        "  *   Errores de tipeo (Male vs male)\n",
        "\n",
        "  *   Valores inesperados o nulos.\n",
        "\n",
        "\n"
      ],
      "metadata": {
        "id": "zQiYhE6D6-kC"
      }
    },
    {
      "cell_type": "code",
      "source": [
        "# 1. Cargar dataset en df\n",
        "url = \"https://raw.githubusercontent.com/fede-cordoba-Ispc/Cs_Datos_II-Estadistica_II/refs/heads/main/Datos/teen_phone_addiction_dataset.csv\"\n",
        "df = pd.read_csv(url)\n",
        "\n",
        "# 2. Detectar columnas categóricas\n",
        "categorical_cols = df.select_dtypes(include=['object', 'category']).columns\n",
        "print(\"Columnas categóricas:\", categorical_cols)\n",
        "\n",
        "# 3. Función para detectar inconsistencias comunes\n",
        "def analizar_categoricas(df, cols):\n",
        "    for col in cols:\n",
        "        print(f\"\\n--- Columna: {col} ---\")\n",
        "        # Contar valores únicos\n",
        "        counts = df[col].value_counts(dropna=False)\n",
        "        print(counts)\n",
        "\n",
        "        # Detectar posibles inconsistencias\n",
        "        inconsistencias = []\n",
        "        for val in counts.index:\n",
        "            if isinstance(val, str):\n",
        "                # Verificar mayúsculas/minúsculas\n",
        "                lower_vals = [v for v in counts.index if isinstance(v, str) and v.lower() == val.lower()]\n",
        "                if len(lower_vals) > 1:\n",
        "                    inconsistencias.append(f\"Diferencias de mayúsculas/minúsculas: {lower_vals}\")\n",
        "\n",
        "                # Detectar espacios extra\n",
        "                if val != val.strip():\n",
        "                    inconsistencias.append(f\"Espacios al inicio/final: '{val}'\")\n",
        "\n",
        "        if inconsistencias:\n",
        "            print(\"Posibles inconsistencias detectadas:\")\n",
        "            for inc in inconsistencias:\n",
        "                print(\"   -\", inc)\n",
        "        else:\n",
        "            print(\"Sin inconsistencias obvias\")\n",
        "\n",
        "# 4. Ejecutar análisis\n",
        "analizar_categoricas(df, categorical_cols)\n"
      ],
      "metadata": {
        "colab": {
          "base_uri": "https://localhost:8080/"
        },
        "id": "4LqaRRWLRj6a",
        "outputId": "e41bec41-f32a-4060-e003-35436a06c4c5"
      },
      "execution_count": 8,
      "outputs": [
        {
          "output_type": "stream",
          "name": "stdout",
          "text": [
            "Columnas categóricas: Index(['Name', 'Gender', 'Location', 'School_Grade', 'Phone_Usage_Purpose'], dtype='object')\n",
            "\n",
            "--- Columna: Name ---\n",
            "Name\n",
            "Michael Garcia     3\n",
            "Gregory Johnson    3\n",
            "Michael Brown      3\n",
            "Richard Smith      3\n",
            "David Williams     3\n",
            "                  ..\n",
            "Erika Moreno       1\n",
            "Brandon Welch      1\n",
            "Rebekah Harris     1\n",
            "Ana Martinez       1\n",
            "Thomas Ayers       1\n",
            "Name: count, Length: 2933, dtype: int64\n",
            "Sin inconsistencias obvias\n",
            "\n",
            "--- Columna: Gender ---\n",
            "Gender\n",
            "Male      1016\n",
            "Female    1007\n",
            "Other      977\n",
            "Name: count, dtype: int64\n",
            "Sin inconsistencias obvias\n",
            "\n",
            "--- Columna: Location ---\n",
            "Location\n",
            "North Michael          6\n",
            "Lake Michael           5\n",
            "South David            4\n",
            "East Michael           4\n",
            "North Jennifer         4\n",
            "                      ..\n",
            "East Tiffanychester    1\n",
            "Cardenasborough        1\n",
            "Lake Carolynfort       1\n",
            "Butlerville            1\n",
            "Brianhaven             1\n",
            "Name: count, Length: 2726, dtype: int64\n",
            "Sin inconsistencias obvias\n",
            "\n",
            "--- Columna: School_Grade ---\n",
            "School_Grade\n",
            "12th    529\n",
            "9th     526\n",
            "7th     497\n",
            "10th    487\n",
            "8th     482\n",
            "11th    479\n",
            "Name: count, dtype: int64\n",
            "Sin inconsistencias obvias\n",
            "\n",
            "--- Columna: Phone_Usage_Purpose ---\n",
            "Phone_Usage_Purpose\n",
            "Browsing        627\n",
            "Other           622\n",
            "Education       602\n",
            "Social Media    575\n",
            "Gaming          574\n",
            "Name: count, dtype: int64\n",
            "Sin inconsistencias obvias\n"
          ]
        }
      ]
    },
    {
      "cell_type": "markdown",
      "source": [
        "**Visualización de Variables Cualitativas**  "
      ],
      "metadata": {
        "id": "aOKqjVARYUSJ"
      }
    },
    {
      "cell_type": "code",
      "source": [
        "import matplotlib.pyplot as plt\n",
        "\n",
        "# Contar por cada categoría\n",
        "Cant_x_genero = df['Gender'].value_counts()\n",
        "Cant_x_grado= df['School_Grade'].value_counts()\n",
        "Cant_x_uso= df['Phone_Usage_Purpose'].value_counts()\n",
        "\n",
        "etiquetas_gen = Cant_x_genero.index\n",
        "cantidades_gen = Cant_x_genero.values\n",
        "\n",
        "etiquetas_grado = Cant_x_grado.index\n",
        "cantidades_grado = Cant_x_grado.values\n",
        "\n",
        "etiquetas_uso = Cant_x_uso.index\n",
        "cantidades_uso = Cant_x_uso.values\n",
        "\n",
        "fig, axs = plt.subplots(1, 3, figsize=(10, 5 ))\n",
        "\n",
        "\n",
        "# Crear y mostrar el gráfico de torta\n",
        "#plt.figure(figsize=(2, 2))\n",
        "axs[0].pie(cantidades_gen,\n",
        "        labels=etiquetas_gen,\n",
        "        autopct='%1.1f%%',\n",
        "        startangle=90,\n",
        "        colors=plt.cm.Paired.colors)\n",
        "\n",
        "axs[0].set_title('Cantidad por género')\n",
        "axs[0].axis('equal')\n",
        "axs[0].axis('off')\n",
        "\n",
        "# Gráfico de barras para Grado Escolar\n",
        "axs[1].bar(etiquetas_grado, cantidades_grado, color=plt.cm.Paired.colors)\n",
        "axs[1].set_title('Cantidad por Grado Escolar')\n",
        "axs[1].set_ylabel('Cantidad')\n",
        "axs[1].tick_params(axis='x', rotation=45)\n",
        "\n",
        "# Gráfico de barras para Propósitos de Uso\n",
        "axs[2].bar(etiquetas_uso, cantidades_uso, color=plt.cm.Paired.colors)\n",
        "axs[2].set_title('Cantidad por Propósitos de Uso')\n",
        "axs[2].set_ylabel('Cantidad')\n",
        "axs[2].tick_params(axis='x', rotation=45)\n",
        "\n",
        "plt.tight_layout()\n",
        "plt.show()"
      ],
      "metadata": {
        "id": "rx4ccW5OYpaK",
        "outputId": "bf8c0373-21bc-494e-e2dd-1195fdde4263",
        "colab": {
          "base_uri": "https://localhost:8080/",
          "height": 507
        }
      },
      "execution_count": 9,
      "outputs": [
        {
          "output_type": "display_data",
          "data": {
            "text/plain": [
              "<Figure size 1000x500 with 3 Axes>"
            ],
            "image/png": "[encoded data removed]"
          },
          "metadata": {}
        }
      ]
    },
    {
      "cell_type": "markdown",
      "source": [
        "**Verificar que los datos tengan sentido (ej. la edad es positiva, las fechas son lógicas).**\n"
      ],
      "metadata": {
        "id": "eQWBo64FXiBW"
      }
    },
    {
      "cell_type": "code",
      "source": [
        "\n",
        "print(df.duplicated().sum())  # Filas duplicadas\n"
      ],
      "metadata": {
        "colab": {
          "base_uri": "https://localhost:8080/"
        },
        "id": "ZCHINeu0s4al",
        "outputId": "a36f6755-eb05-4a40-b098-daee818e4ad5"
      },
      "execution_count": 10,
      "outputs": [
        {
          "output_type": "stream",
          "name": "stdout",
          "text": [
            "0\n"
          ]
        }
      ]
    },
    {
      "cell_type": "markdown",
      "source": [
        "**Variables numéricas**"
      ],
      "metadata": {
        "id": "voEDqxpV0uO5"
      }
    },
    {
      "cell_type": "code",
      "source": [
        "print(df[['Age','Daily_Usage_Hours','Sleep_Hours','Exercise_Hours']].describe())\n"
      ],
      "metadata": {
        "colab": {
          "base_uri": "https://localhost:8080/"
        },
        "id": "wCKqXLsyzM8_",
        "outputId": "f3402087-3351-43b6-cb3d-8606f8c2d35c"
      },
      "execution_count": 11,
      "outputs": [
        {
          "output_type": "stream",
          "name": "stdout",
          "text": [
            "               Age  Daily_Usage_Hours  Sleep_Hours  Exercise_Hours\n",
            "count  3000.000000        3000.000000  3000.000000     3000.000000\n",
            "mean     15.969667           5.020667     6.489767        1.040667\n",
            "std       1.989489           1.956501     1.490713        0.734620\n",
            "min      13.000000           0.000000     3.000000        0.000000\n",
            "25%      14.000000           3.700000     5.500000        0.500000\n",
            "50%      16.000000           5.000000     6.500000        1.000000\n",
            "75%      18.000000           6.400000     7.500000        1.500000\n",
            "max      19.000000          11.500000    10.000000        4.000000\n"
          ]
        }
      ]
    },
    {
      "cell_type": "markdown",
      "source": [
        "**Variables categóricas**"
      ],
      "metadata": {
        "id": "LLMfkOy31TcB"
      }
    },
    {
      "cell_type": "code",
      "source": [
        "for col in ['Gender','School_Grade','Phone_Usage_Purpose']:\n",
        "    print(f\"\\n{col}:\", df[col].unique())\n"
      ],
      "metadata": {
        "colab": {
          "base_uri": "https://localhost:8080/"
        },
        "id": "QeI06G4D1XTj",
        "outputId": "0202762c-f8fd-4a00-a0a0-7c72c206ee0b"
      },
      "execution_count": 12,
      "outputs": [
        {
          "output_type": "stream",
          "name": "stdout",
          "text": [
            "\n",
            "Gender: ['Female' 'Other' 'Male']\n",
            "\n",
            "School_Grade: ['9th' '7th' '11th' '12th' '10th' '8th']\n",
            "\n",
            "Phone_Usage_Purpose: ['Browsing' 'Education' 'Social Media' 'Gaming' 'Other']\n"
          ]
        }
      ]
    },
    {
      "cell_type": "markdown",
      "source": [
        "**Consistencia lógica entre variables**"
      ],
      "metadata": {
        "id": "xMxY8hHx2B8S"
      }
    },
    {
      "cell_type": "markdown",
      "source": [
        "Si Daily_Usage_Hours + Sleep_Hours > 24 → inconsistente."
      ],
      "metadata": {
        "id": "qMrSXoRy2TaK"
      }
    },
    {
      "cell_type": "code",
      "source": [
        "df[df['Daily_Usage_Hours'] + df['Sleep_Hours'] > 24]\n"
      ],
      "metadata": {
        "colab": {
          "base_uri": "https://localhost:8080/",
          "height": 99
        },
        "id": "Z6T8yHc52JAl",
        "outputId": "91fbe263-3a8b-452e-db8f-37fdf6daa287"
      },
      "execution_count": 13,
      "outputs": [
        {
          "output_type": "execute_result",
          "data": {
            "text/plain": [
              "Empty DataFrame\n",
              "Columns: [ID, Name, Age, Gender, Location, School_Grade, Daily_Usage_Hours, Sleep_Hours, Academic_Performance, Social_Interactions, Exercise_Hours, Anxiety_Level, Depression_Level, Self_Esteem, Parental_Control, Screen_Time_Before_Bed, Phone_Checks_Per_Day, Apps_Used_Daily, Time_on_Social_Media, Time_on_Gaming, Time_on_Education, Phone_Usage_Purpose, Family_Communication, Weekend_Usage_Hours, Addiction_Level]\n",
              "Index: []\n",
              "\n",
              "[0 rows x 25 columns]"
            ],
            "text/html": [
              "\n",
              "  <div id=\"df-29e1d34f-91b1-4087-ad66-014902cdaddf\" class=\"colab-df-container\">\n",
              "    <div>\n",
              "<style scoped>\n",
              "    .dataframe tbody tr th:only-of-type {\n",
              "        vertical-align: middle;\n",
              "    }\n",
              "\n",
              "    .dataframe tbody tr th {\n",
              "        vertical-align: top;\n",
              "    }\n",
              "\n",
              "    .dataframe thead th {\n",
              "        text-align: right;\n",
              "    }\n",
              "</style>\n",
              "<table border=\"1\" class=\"dataframe\">\n",
              "  <thead>\n",
              "    <tr style=\"text-align: right;\">\n",
              "      <th></th>\n",
              "      <th>ID</th>\n",
              "      <th>Name</th>\n",
              "      <th>Age</th>\n",
              "      <th>Gender</th>\n",
              "      <th>Location</th>\n",
              "      <th>School_Grade</th>\n",
              "      <th>Daily_Usage_Hours</th>\n",
              "      <th>Sleep_Hours</th>\n",
              "      <th>Academic_Performance</th>\n",
              "      <th>Social_Interactions</th>\n",
              "      <th>...</th>\n",
              "      <th>Screen_Time_Before_Bed</th>\n",
              "      <th>Phone_Checks_Per_Day</th>\n",
              "      <th>Apps_Used_Daily</th>\n",
              "      <th>Time_on_Social_Media</th>\n",
              "      <th>Time_on_Gaming</th>\n",
              "      <th>Time_on_Education</th>\n",
              "      <th>Phone_Usage_Purpose</th>\n",
              "      <th>Family_Communication</th>\n",
              "      <th>Weekend_Usage_Hours</th>\n",
              "      <th>Addiction_Level</th>\n",
              "    </tr>\n",
              "  </thead>\n",
              "  <tbody>\n",
              "  </tbody>\n",
              "</table>\n",
              "<p>0 rows × 25 columns</p>\n",
              "</div>\n",
              "    <div class=\"colab-df-buttons\">\n",
              "\n",
              "  <div class=\"colab-df-container\">\n",
              "    <button class=\"colab-df-convert\" onclick=\"convertToInteractive('df-29e1d34f-91b1-4087-ad66-014902cdaddf')\"\n",
              "            title=\"Convert this dataframe to an interactive table.\"\n",
              "            style=\"display:none;\">\n",
              "\n",
              "  <svg xmlns=\"http://www.w3.org/2000/svg\" height=\"24px\" viewBox=\"0 -960 960 960\">\n",
              "    <path d=\"M120-120v-720h720v720H120Zm60-500h600v-160H180v160Zm220 220h160v-160H400v160Zm0 220h160v-160H400v160ZM180-400h160v-160H180v160Zm440 0h160v-160H620v160ZM180-180h160v-160H180v160Zm440 0h160v-160H620v160Z\"/>\n",
              "  </svg>\n",
              "    </button>\n",
              "\n",
              "  <style>\n",
              "    .colab-df-container {\n",
              "      display:flex;\n",
              "      gap: 12px;\n",
              "    }\n",
              "\n",
              "    .colab-df-convert {\n",
              "      background-color: #E8F0FE;\n",
              "      border: none;\n",
              "      border-radius: 50%;\n",
              "      cursor: pointer;\n",
              "      display: none;\n",
              "      fill: #1967D2;\n",
              "      height: 32px;\n",
              "      padding: 0 0 0 0;\n",
              "      width: 32px;\n",
              "    }\n",
              "\n",
              "    .colab-df-convert:hover {\n",
              "      background-color: #E2EBFA;\n",
              "      box-shadow: 0px 1px 2px rgba(60, 64, 67, 0.3), 0px 1px 3px 1px rgba(60, 64, 67, 0.15);\n",
              "      fill: #174EA6;\n",
              "    }\n",
              "\n",
              "    .colab-df-buttons div {\n",
              "      margin-bottom: 4px;\n",
              "    }\n",
              "\n",
              "    [theme=dark] .colab-df-convert {\n",
              "      background-color: #3B4455;\n",
              "      fill: #D2E3FC;\n",
              "    }\n",
              "\n",
              "    [theme=dark] .colab-df-convert:hover {\n",
              "      background-color: #434B5C;\n",
              "      box-shadow: 0px 1px 3px 1px rgba(0, 0, 0, 0.15);\n",
              "      filter: drop-shadow(0px 1px 2px rgba(0, 0, 0, 0.3));\n",
              "      fill: #FFFFFF;\n",
              "    }\n",
              "  </style>\n",
              "\n",
              "    <script>\n",
              "      const buttonEl =\n",
              "        document.querySelector('#df-29e1d34f-91b1-4087-ad66-014902cdaddf button.colab-df-convert');\n",
              "      buttonEl.style.display =\n",
              "        google.colab.kernel.accessAllowed ? 'block' : 'none';\n",
              "\n",
              "      async function convertToInteractive(key) {\n",
              "        const element = document.querySelector('#df-29e1d34f-91b1-4087-ad66-014902cdaddf');\n",
              "        const dataTable =\n",
              "          await google.colab.kernel.invokeFunction('convertToInteractive',\n",
              "                                                    [key], {});\n",
              "        if (!dataTable) return;\n",
              "\n",
              "        const docLinkHtml = 'Like what you see? Visit the ' +\n",
              "          '<a target=\"_blank\" href=https://colab.research.google.com/notebooks/data_table.ipynb>data table notebook</a>'\n",
              "          + ' to learn more about interactive tables.';\n",
              "        element.innerHTML = '';\n",
              "        dataTable['output_type'] = 'display_data';\n",
              "        await google.colab.output.renderOutput(dataTable, element);\n",
              "        const docLink = document.createElement('div');\n",
              "        docLink.innerHTML = docLinkHtml;\n",
              "        element.appendChild(docLink);\n",
              "      }\n",
              "    </script>\n",
              "  </div>\n",
              "\n",
              "\n",
              "    </div>\n",
              "  </div>\n"
            ],
            "application/vnd.google.colaboratory.intrinsic+json": {
              "type": "dataframe"
            }
          },
          "metadata": {},
          "execution_count": 13
        }
      ]
    },
    {
      "cell_type": "markdown",
      "source": [
        "Validando inconcistencias entre edades de personas que asisten al secundario"
      ],
      "metadata": {
        "id": "hHcMiQwh3V2E"
      }
    },
    {
      "cell_type": "code",
      "source": [
        "# Definir los grados de secundaria en el dataset\n",
        "secondary_grades = ['7th', '8th', '9th', '10th', '11th', '12th']\n",
        "\n",
        "# Filtrar inconsistencias: edad < 13 y en secundaria\n",
        "inconsistencias = df[(df[\"Age\"] < 13) & (df[\"School_Grade\"].isin(secondary_grades))]\n",
        "\n",
        "# Mostrar resultados\n",
        "if inconsistencias.empty:\n",
        "    print(\"No se encontraron inconsistencias (Edad < 13 en secundaria).\")\n",
        "else:\n",
        "    print(\"Se encontraron inconsistencias:\\n\")\n",
        "    print(inconsistencias[[\"ID\", \"Name\", \"Age\", \"School_Grade\"]])\n"
      ],
      "metadata": {
        "colab": {
          "base_uri": "https://localhost:8080/"
        },
        "id": "8ycQwAUT3RWZ",
        "outputId": "587923cc-fb7d-4ede-ac78-eb5be2784499"
      },
      "execution_count": 14,
      "outputs": [
        {
          "output_type": "stream",
          "name": "stdout",
          "text": [
            "No se encontraron inconsistencias (Edad < 13 en secundaria).\n"
          ]
        }
      ]
    },
    {
      "cell_type": "markdown",
      "source": [
        "Validando inconcistencias entre Aplicaciones usadas y revisa el teléfono más de 0 veces al día"
      ],
      "metadata": {
        "id": "d6h0Q98k3kiv"
      }
    },
    {
      "cell_type": "code",
      "source": [
        "# Filtrar inconsistencias: 0 apps usadas pero revisa el teléfono más de 0 veces al día\n",
        "inconsistencias_apps = df[(df[\"Apps_Used_Daily\"] == 0) & (df[\"Phone_Checks_Per_Day\"] > 0)]\n",
        "\n",
        "# Mostrar resultados\n",
        "if inconsistencias_apps.empty:\n",
        "    print(\"No se encontraron inconsistencias (0 apps usadas pero con chequeos de teléfono).\")\n",
        "else:\n",
        "    print(\"Se encontraron inconsistencias:\\n\")\n",
        "    print(inconsistencias_apps[[\"ID\", \"Name\", \"Apps_Used_Daily\", \"Phone_Checks_Per_Day\"]])\n"
      ],
      "metadata": {
        "colab": {
          "base_uri": "https://localhost:8080/"
        },
        "id": "S25uaoMW3lT_",
        "outputId": "4abcaf7b-e304-4ebd-af33-6719a7d59aa6"
      },
      "execution_count": 15,
      "outputs": [
        {
          "output_type": "stream",
          "name": "stdout",
          "text": [
            "No se encontraron inconsistencias (0 apps usadas pero con chequeos de teléfono).\n"
          ]
        }
      ]
    },
    {
      "cell_type": "markdown",
      "source": [
        "#   Análisis Descriptivo y Outliers\n",
        "\n",
        "\n",
        "\n"
      ],
      "metadata": {
        "id": "7_sdPTnxq346"
      }
    },
    {
      "cell_type": "markdown",
      "source": [
        "# Validación y Estructura\n",
        "* Corregir formatos (mayúsculas, minúsculas, etc.).\n",
        "\n",
        "\n"
      ],
      "metadata": {
        "id": "Ai3AEGhZU1em"
      }
    },
    {
      "cell_type": "code",
      "source": [
        "# Identificar automáticamente todas las columnas con tipo de dato 'object'\n",
        "columnas_texto = df.select_dtypes(include=['object']).columns\n",
        "\n",
        "# Iterar sobre estas columnas y convertirlas a minúsculas\n",
        "for col in columnas_texto:\n",
        "    df[col] = df[col].str.lower()\n",
        "\n",
        "# Mostrar el resultado para verificar los cambios\n",
        "print(\"Columnas de texto convertidas a minúsculas:\")\n",
        "for col in columnas_texto:\n",
        "    print(f\"- {col}\")\n",
        "print(\"\\nPrimeras 5 filas del DataFrame con los formatos corregidos:\")\n",
        "print(df.head())"
      ],
      "metadata": {
        "colab": {
          "base_uri": "https://localhost:8080/"
        },
        "id": "FnwD4egjVE-U",
        "outputId": "87c032c1-1ca2-4145-b66f-f463bc321485"
      },
      "execution_count": 16,
      "outputs": [
        {
          "output_type": "stream",
          "name": "stdout",
          "text": [
            "Columnas de texto convertidas a minúsculas:\n",
            "- Name\n",
            "- Gender\n",
            "- Location\n",
            "- School_Grade\n",
            "- Phone_Usage_Purpose\n",
            "\n",
            "Primeras 5 filas del DataFrame con los formatos corregidos:\n",
            "   ID               Name  Age  Gender          Location School_Grade  \\\n",
            "0   1    shannon francis   13  female        hansonfort          9th   \n",
            "1   2    scott rodriguez   17  female      theodorefort          7th   \n",
            "2   3        adrian knox   13   other       lindseystad         11th   \n",
            "3   4  brittany hamilton   18  female      west anthony         12th   \n",
            "4   5       steven smith   14   other  port lindsaystad          9th   \n",
            "\n",
            "   Daily_Usage_Hours  Sleep_Hours  Academic_Performance  Social_Interactions  \\\n",
            "0                4.0          6.1                    78                    5   \n",
            "1                5.5          6.5                    70                    5   \n",
            "2                5.8          5.5                    93                    8   \n",
            "3                3.1          3.9                    78                    8   \n",
            "4                2.5          6.7                    56                    4   \n",
            "\n",
            "   ...  Screen_Time_Before_Bed  Phone_Checks_Per_Day  Apps_Used_Daily  \\\n",
            "0  ...                     1.4                    86               19   \n",
            "1  ...                     0.9                    96                9   \n",
            "2  ...                     0.5                   137                8   \n",
            "3  ...                     1.4                   128                7   \n",
            "4  ...                     1.0                    96               20   \n",
            "\n",
            "   Time_on_Social_Media  Time_on_Gaming  Time_on_Education  \\\n",
            "0                   3.6             1.7                1.2   \n",
            "1                   1.1             4.0                1.8   \n",
            "2                   0.3             1.5                0.4   \n",
            "3                   3.1             1.6                0.8   \n",
            "4                   2.6             0.9                1.1   \n",
            "\n",
            "   Phone_Usage_Purpose  Family_Communication  Weekend_Usage_Hours  \\\n",
            "0             browsing                     4                  8.7   \n",
            "1             browsing                     2                  5.3   \n",
            "2            education                     6                  5.7   \n",
            "3         social media                     8                  3.0   \n",
            "4               gaming                    10                  3.7   \n",
            "\n",
            "   Addiction_Level  \n",
            "0             10.0  \n",
            "1             10.0  \n",
            "2              9.2  \n",
            "3              9.8  \n",
            "4              8.6  \n",
            "\n",
            "[5 rows x 25 columns]\n"
          ]
        }
      ]
    },
    {
      "cell_type": "markdown",
      "source": [
        "# Validación de las columnas\n",
        "\n",
        "### Columnas convertidas a minúsculas\n",
        "El código identificó y procesó las columnas de texto que necesitaban corrección:\n",
        "\n",
        "- **Name**  \n",
        "- **Gender**  \n",
        "- **Location**  \n",
        "- **School_Grade**  \n",
        "- **Phone_Usage_Purpose**\n",
        "\n",
        "---\n",
        "\n",
        "### Verificación de los cambios\n",
        "En las primeras 5 filas del DataFrame se observa que los valores fueron convertidos a minúsculas:  \n",
        "\n",
        "- `Shannon Francis` → `shannon francis`  \n",
        "- `Browsing` → `browsing`  \n",
        "\n",
        "Esto confirma que la limpieza se realizó con éxito.\n",
        "\n",
        "---\n",
        "\n",
        "### ¿Por qué a minúsculas y no a mayúsculas?\n",
        "\n",
        "- **Evita duplicados y errores de conteo:**  \n",
        "  `\"Female\"`, `\"FEMALE\"` y `\"female\"` se agrupan como **`female`**, evitando contar categorías separadas.  \n",
        "\n",
        "- **Simplifica búsqueda y filtrado:**  \n",
        "  Con un formato estandarizado basta con buscar `\"9th grade\"` en lugar de múltiples variantes.  \n",
        "\n",
        "- **Preparación para análisis de texto (NLP):**  \n",
        "  Facilita el procesamiento y evita que palabras iguales se traten como distintas solo por mayúsculas.  \n",
        "\n",
        " En resumen: convertir a minúsculas es la forma más sencilla y efectiva de **estandarizar datos categóricos** para lograr un análisis preciso y confiable.\n",
        "\n",
        "---\n",
        "\n",
        "### Automatización aplicada\n",
        "Se utilizó:\n",
        "\n",
        "```python\n",
        "df.select_dtypes(include=['object'])\n"
      ],
      "metadata": {
        "id": "vNz4_hW-YKEd"
      }
    },
    {
      "cell_type": "markdown",
      "source": [
        "# Análisis Descriptivo y Outliers\n"
      ],
      "metadata": {
        "id": "2cEmYCs2ZT6u"
      }
    },
    {
      "cell_type": "markdown",
      "source": [
        "# 2. Visualizar y Detectar Outliers (Valores Atípicos)\n",
        "\n",
        "Para visualizar los outliers, utilizamos caja (boxplots). Estos gráficos  muestran la distribución de los datos y cualquier punto que se encuentre fuera de los bigotes del diagrama se considera un valor atípico. Vamos a visualizar algunas de las variables más relevantes."
      ],
      "metadata": {
        "id": "jVzG0BpTcMNj"
      }
    },
    {
      "cell_type": "code",
      "source": [
        "# Seleccionar algunas variables numéricas para visualizar outliers\n",
        "numeric_columns = ['Daily_Usage_Hours', 'Sleep_Hours', 'Academic_Performance',\n",
        "                   'Anxiety_Level', 'Depression_Level', 'Self_Esteem']\n",
        "\n",
        "# Crear subplots para mostrar varios boxplots\n",
        "plt.figure(figsize=(15, 10))\n",
        "for i, col in enumerate(numeric_columns, 1):\n",
        "    plt.subplot(2, 3, i)\n",
        "    sns.boxplot(x=df[col])\n",
        "    plt.title(f'Boxplot de {col}')\n",
        "    plt.xlabel(col)\n",
        "plt.tight_layout()\n",
        "plt.show()\n",
        "\n",
        "print(\"\\n Visualización de outliers completada. Los puntos fuera de los bigotes de los boxplots son los valores atípicos.\")"
      ],
      "metadata": {
        "colab": {
          "base_uri": "https://localhost:8080/",
          "height": 610
        },
        "id": "snTpeGPUcYQn",
        "outputId": "24db30a2-5a3e-4281-f51b-18899b5acca6"
      },
      "execution_count": 17,
      "outputs": [
        {
          "output_type": "error",
          "ename": "NameError",
          "evalue": "name 'sns' is not defined",
          "traceback": [
            "\u001b[0;31m---------------------------------------------------------------------------\u001b[0m",
            "\u001b[0;31mNameError\u001b[0m                                 Traceback (most recent call last)",
            "\u001b[0;32m/tmp/ipython-input-3140073716.py\u001b[0m in \u001b[0;36m<cell line: 0>\u001b[0;34m()\u001b[0m\n\u001b[1;32m      7\u001b[0m \u001b[0;32mfor\u001b[0m \u001b[0mi\u001b[0m\u001b[0;34m,\u001b[0m \u001b[0mcol\u001b[0m \u001b[0;32min\u001b[0m \u001b[0menumerate\u001b[0m\u001b[0;34m(\u001b[0m\u001b[0mnumeric_columns\u001b[0m\u001b[0;34m,\u001b[0m \u001b[0;36m1\u001b[0m\u001b[0;34m)\u001b[0m\u001b[0;34m:\u001b[0m\u001b[0;34m\u001b[0m\u001b[0;34m\u001b[0m\u001b[0m\n\u001b[1;32m      8\u001b[0m     \u001b[0mplt\u001b[0m\u001b[0;34m.\u001b[0m\u001b[0msubplot\u001b[0m\u001b[0;34m(\u001b[0m\u001b[0;36m2\u001b[0m\u001b[0;34m,\u001b[0m \u001b[0;36m3\u001b[0m\u001b[0;34m,\u001b[0m \u001b[0mi\u001b[0m\u001b[0;34m)\u001b[0m\u001b[0;34m\u001b[0m\u001b[0;34m\u001b[0m\u001b[0m\n\u001b[0;32m----> 9\u001b[0;31m     \u001b[0msns\u001b[0m\u001b[0;34m.\u001b[0m\u001b[0mboxplot\u001b[0m\u001b[0;34m(\u001b[0m\u001b[0mx\u001b[0m\u001b[0;34m=\u001b[0m\u001b[0mdf\u001b[0m\u001b[0;34m[\u001b[0m\u001b[0mcol\u001b[0m\u001b[0;34m]\u001b[0m\u001b[0;34m)\u001b[0m\u001b[0;34m\u001b[0m\u001b[0;34m\u001b[0m\u001b[0m\n\u001b[0m\u001b[1;32m     10\u001b[0m     \u001b[0mplt\u001b[0m\u001b[0;34m.\u001b[0m\u001b[0mtitle\u001b[0m\u001b[0;34m(\u001b[0m\u001b[0;34mf'Boxplot de {col}'\u001b[0m\u001b[0;34m)\u001b[0m\u001b[0;34m\u001b[0m\u001b[0;34m\u001b[0m\u001b[0m\n\u001b[1;32m     11\u001b[0m     \u001b[0mplt\u001b[0m\u001b[0;34m.\u001b[0m\u001b[0mxlabel\u001b[0m\u001b[0;34m(\u001b[0m\u001b[0mcol\u001b[0m\u001b[0;34m)\u001b[0m\u001b[0;34m\u001b[0m\u001b[0;34m\u001b[0m\u001b[0m\n",
            "\u001b[0;31mNameError\u001b[0m: name 'sns' is not defined"
          ]
        },
        {
          "output_type": "display_data",
          "data": {
            "text/plain": [
              "<Figure size 1500x1000 with 1 Axes>"
            ],
            "image/png": "[encoded data removed]"
          },
          "metadata": {}
        }
      ]
    },
    {
      "cell_type": "markdown",
      "source": [
        "**Observaciones clave**\n",
        "\n",
        "* Daily_Usage_Hours: La mayoría de los datos se concentran en un rango de 4 a 6 horas. Hay varios puntos que se extienden más allá del bigote superior, indicando la presencia de valores atípicos (outliers) de personas con un uso de pantalla significativamente mayor, de 10 horas o más.\n",
        "\n",
        "* Sleep_Hours: La distribución de las horas de sueño es bastante simétrica, centrada alrededor de 7 horas. La mayoría de las personas duermen entre 6 y 8 horas, y no se observan valores atípicos.\n",
        "\n",
        "* Academic_Performance: La distribución de los resultados académicos es bastante centrada, sin valores atípicos notables. La mediana está cerca de 80, lo que sugiere que la mayoría de los estudiantes tienen un buen rendimiento académico.\n",
        "\n",
        "* Anxiety_Level: La distribución del nivel de ansiedad es amplia, con una mediana alrededor de 6. Esto indica una variabilidad considerable en los niveles de ansiedad entre los individuos, pero no hay valores atípicos extremos.\n",
        "\n",
        "* Depression_Level: Similar al nivel de ansiedad, la distribución de la depresión también es amplia y abarca un rango similar, con una mediana alrededor de 6. Esto sugiere una variabilidad considerable en la muestra.\n",
        "\n",
        "* Self_Esteem: El nivel de autoestima muestra una distribución bastante centrada, con la mayoría de los valores agrupados alrededor de la mediana, que parece estar cerca de 7. Al igual que con el rendimiento académico, no se observan valores atípicos significativos."
      ],
      "metadata": {
        "id": "oaLY3MAWiAqj"
      }
    },
    {
      "cell_type": "markdown",
      "source": [
        "# 3. Proponer y Manejar Outliers\n",
        "Usamos el método más común y robusto para manejar outliers es el Rango Intercuartílico (IQR). La idea es identificar y, si es necesario, eliminar los valores que están significativamente alejados del centro de los datos, generalmente más allá de 1.5 veces el IQR de los cuartiles. Es crucial analizar cada caso, ya que a veces los outliers son datos válidos."
      ],
      "metadata": {
        "id": "3Tv-DEnEcheC"
      }
    },
    {
      "cell_type": "code",
      "source": [
        "# Definir la columna para el análisis de outliers\n",
        "columna = 'Daily_Usage_Hours'\n",
        "\n",
        "# Calcular el primer cuartil (Q1) y el tercer cuartil (Q3)\n",
        "Q1 = df[columna].quantile(0.25)\n",
        "Q3 = df[columna].quantile(0.75)\n",
        "\n",
        "# Calcular el Rango Intercuartílico (IQR)\n",
        "IQR = Q3 - Q1\n",
        "\n",
        "# Definir los límites para los outliers\n",
        "lower_bound = Q1 - 1.5 * IQR\n",
        "upper_bound = Q3 + 1.5 * IQR\n",
        "\n",
        "# Identificar y contar los outliers\n",
        "outliers = df[(df[columna] < lower_bound) | (df[columna] > upper_bound)]\n",
        "\n",
        "print(f\" Se han detectado {len(outliers)} outliers en la columna '{columna}'.\")\n",
        "print(f\"Esto representa el {round(len(outliers)/len(df)*100,2)}% del total de las filas.\")"
      ],
      "metadata": {
        "id": "wVQF2hQkdCiL"
      },
      "execution_count": null,
      "outputs": []
    },
    {
      "cell_type": "markdown",
      "source": [
        "Explicación del Método\n",
        "* Cálculo de Cuartiles y IQR: Primero, se calculan el primer cuartil (Q1) y el tercer cuartil (Q3). El Q1 representa el 25% de los datos y el Q3 el 75%. El Rango Intercuartílico (IQR) es simplemente la diferencia entre el Q3 y el Q1, y abarca el 50% central de los datos.\n",
        "\n",
        "* Definición de Límites: Los límites para los outliers se definen como aquellos valores que están más allá de 1.5×IQR por encima del Q3 o por debajo del Q1. Los valores que caen fuera de estos límites se consideran outliers.\n",
        "\n",
        "**lower_bound = Q1 - 1.5 * IQR**\n",
        "\n",
        "**upper_bound = Q3 + 1.5 * IQR**\n",
        "\n",
        "Interpretación de los Resultados\n",
        "\n",
        "El código finaliza con dos líneas que imprimen el número de outliers detectados y su porcentaje con respecto al total de datos.\n",
        "\n",
        "Se han detectado {len(outliers)} outliers en la columna 'Daily_Usage_Hours'.: Esta línea te dirá exactamente cuántos registros tienen un número de horas de uso diario que se considera atípico según el método del IQR.\n",
        "\n",
        "Esto representa el {round(len(outliers)/len(df)*100,2)}% del total de las filas.: Esta métrica es crucial para entender la magnitud del problema. Por ejemplo, si el porcentaje es muy bajo (ej. menos del 1%), los outliers pueden ser solo casos aislados que no afectan demasiado el análisis. Sin embargo, si el porcentaje es alto, podría indicar una distribución de datos sesgada o la necesidad de una investigación más profunda."
      ],
      "metadata": {
        "id": "2bFYd7bIiwsH"
      }
    },
    {
      "cell_type": "markdown",
      "source": [
        "**Valores atípicos en el resto de las variables**"
      ],
      "metadata": {
        "id": "YiDgkCWGr4vz"
      }
    },
    {
      "cell_type": "code",
      "source": [
        "numeric_columns = ['Age', 'Social_Interactions', 'Exercise_Hours', 'Screen_Time_Before_Bed', 'Phone_Checks_Per_Day',\n",
        "                       'Apps_Used_Daily', 'Time_on_Social_Media', 'Time_on_Gaming', 'Time_on_Education', 'Family_Communication', 'Weekend_Usage_Hours',\n",
        "                       'Addiction_Level']\n",
        "\n",
        "# Crear subplots para mostrar varios boxplots\n",
        "plt.figure(figsize=(25, 20))\n",
        "for i, col in enumerate(numeric_columns, 1):\n",
        "    plt.subplot(3, 4, i)\n",
        "    sns.boxplot(x=df[col])\n",
        "    plt.title(f'Boxplot de {col}', fontsize=12)\n",
        "\n",
        "plt.tight_layout()\n",
        "plt.show()"
      ],
      "metadata": {
        "id": "N-EvxP7ssc-L"
      },
      "execution_count": null,
      "outputs": []
    },
    {
      "cell_type": "markdown",
      "source": [
        "Análisis de cada caso de valores atípicos"
      ],
      "metadata": {
        "id": "L4VG70tDstg0"
      }
    },
    {
      "cell_type": "code",
      "source": [
        "columna = 'Weekend_Usage_Hours'\n",
        "\n",
        "# Calcular el primer cuartil (Q1) y el tercer cuartil (Q3)\n",
        "Q1 = df[columna].quantile(0.25)\n",
        "Q3 = df[columna].quantile(0.75)\n",
        "\n",
        "# Calcular el Rango Intercuartílico (IQR)\n",
        "IQR = Q3 - Q1\n",
        "\n",
        "# Definir los límites para los outliers\n",
        "lower_bound = Q1 - 1.5 * IQR\n",
        "upper_bound = Q3 + 1.5 * IQR\n",
        "\n",
        "# Identificar y contar los outliers\n",
        "outliers = df[(df[columna] < lower_bound) | (df[columna] > upper_bound)]\n",
        "\n",
        "print(f\" Se han detectado {len(outliers)} outliers en la columna '{columna}'.\")\n",
        "print(f\"Esto representa el {round(len(outliers)/len(df)*100,2)}% del total de las filas.\")"
      ],
      "metadata": {
        "id": "LvlbrFmys4op"
      },
      "execution_count": null,
      "outputs": []
    },
    {
      "cell_type": "code",
      "source": [
        "columna = 'Addiction_Level'\n",
        "\n",
        "# Calcular el primer cuartil (Q1) y el tercer cuartil (Q3)\n",
        "Q1 = df[columna].quantile(0.25)\n",
        "Q3 = df[columna].quantile(0.75)\n",
        "\n",
        "# Calcular el Rango Intercuartílico (IQR)\n",
        "IQR = Q3 - Q1\n",
        "\n",
        "# Definir los límites para los outliers\n",
        "lower_bound = Q1 - 1.5 * IQR\n",
        "upper_bound = Q3 + 1.5 * IQR\n",
        "\n",
        "# Identificar y contar los outliers\n",
        "outliers = df[(df[columna] < lower_bound) | (df[columna] > upper_bound)]\n",
        "\n",
        "print(f\" Se han detectado {len(outliers)} outliers en la columna '{columna}'.\")\n",
        "print(f\"Esto representa el {round(len(outliers)/len(df)*100,2)}% del total de las filas.\")"
      ],
      "metadata": {
        "id": "nFowJ8Rts-iP"
      },
      "execution_count": null,
      "outputs": []
    },
    {
      "cell_type": "markdown",
      "source": [
        "# Sección nueva\n",
        "# Aplicación de técnicas elegidas: correlación, ANOVA, regresión lineal."
      ],
      "metadata": {
        "id": "Bum_lnIdl7ow"
      }
    },
    {
      "cell_type": "markdown",
      "source": [
        "1) **Correlación de nivel adicción autopercibida al uso del telefono**"
      ],
      "metadata": {
        "id": "zzqpqkbY6rck"
      }
    },
    {
      "cell_type": "code",
      "source": [
        "# Seleccionar columnas relevantes\n",
        "cols = ['Daily_Usage_Hours', 'Phone_Checks_Per_Day', 'Apps_Used_Daily',\n",
        "        'Time_on_Social_Media', 'Time_on_Gaming', 'Screen_Time_Before_Bed',\n",
        "        'Weekend_Usage_Hours', 'Sleep_Hours', 'Exercise_Hours',\n",
        "        'Anxiety_Level', 'Depression_Level', 'Self_Esteem',\n",
        "        'Family_Communication', 'Addiction_Level']\n",
        "\n",
        "# Calcular correlación\n",
        "correlaciones = df[cols].corr()['Addiction_Level'].sort_values(ascending=False)\n",
        "print(correlaciones)\n"
      ],
      "metadata": {
        "id": "ZxelKpfZ6ylI"
      },
      "execution_count": null,
      "outputs": []
    },
    {
      "cell_type": "markdown",
      "source": [
        "DESCRIPCION:\n",
        "\n",
        "1.   **Correlaciones positivas fuertes y moderadas**\n",
        "\n",
        "      - **Daily_Usage_Hours**(0.60) → La cantidad de horas de uso diario está fuertemente relacionada con el nivel de adicción autopercibida. Cuanto más tiempo usan el teléfono, mayor es la adicción autopercibida.\n",
        "\n",
        "      - **Apps_Used_Daily** (0.32) → Usar más aplicaciones diferentes al día está moderadamente asociado a mayor adicción autopercibida.\n",
        "\n",
        "      - **Time_on_Social_Media** (0.31) y Time_on_Gaming (0.27) → Más tiempo en redes sociales y videojuegos aumenta la adicción autopercibida de manera moderada.\n",
        "\n",
        "      - **Phone_Checks_Per_Day** (0.25) → Revisar el teléfono muchas veces al día también influye en la adicción autopercibida.\n",
        "\n",
        "2.  **Correlaciones débiles**\n",
        "\n",
        "      - **Anxiety_Level** (0.016), **Screen_Time_Before_Bed** (0.013), **Depression_Level** (0.008) → Apenas muestran relación, prácticamente no aportan explicación sobre la adicciónautopercibida. en este dataset.\n",
        "\n",
        "3.  **Correlaciones negativas**\n",
        "\n",
        "      - **Sleep_Hours** (-0.22) → Dormir menos horas se relaciona con mayor adicción autopercibida. Es una relación negativa moderada: a más adicción, menos horas de sueño.\n",
        "\n",
        "      - **Self_Esteem** (-0.02), **Exercise_Hours** (-0.02), **Family_Communication** (-0.01), **Weekend_Usage_Hours** (-0.01) → Relaciones negativas muy débiles, casi inexistentes."
      ],
      "metadata": {
        "id": "K_FTo17-Exef"
      }
    },
    {
      "cell_type": "code",
      "source": [
        "import seaborn as sns\n",
        "\n",
        "# Cargar dataset\n",
        "url = \"https://raw.githubusercontent.com/fede-cordoba-Ispc/Cs_Datos_II-Estadistica_II/refs/heads/main/Datos/teen_phone_addiction_dataset.csv\"\n",
        "df = pd.read_csv(url)\n",
        "\n",
        "# Seleccionar variables numéricas\n",
        "num_cols = df.select_dtypes(include='number').columns.tolist()\n",
        "\n",
        "# Calcular correlación con Addiction_Level\n",
        "correlaciones = df[num_cols].corr()['Addiction_Level'].sort_values(ascending=False)\n",
        "df_corr = correlaciones.reset_index()\n",
        "df_corr.columns = ['Variable', 'Correlacion']\n",
        "\n",
        "# Clasificar tipo de relación\n",
        "def categorizar(c):\n",
        "    if c > 0.5:\n",
        "        return 'Fuerte influencia'\n",
        "    elif 0.2 < c <= 0.5:\n",
        "        return 'Influencia moderada'\n",
        "    elif -0.5 < c <= -0.2:\n",
        "        return 'Relación negativa moderada'\n",
        "    else:\n",
        "        return 'Relación débil / casi nula'\n",
        "\n",
        "df_corr['Tipo'] = df_corr['Correlacion'].apply(categorizar)\n",
        "\n",
        "# Filtrar solo variables relevantes (fuertes, moderadas, negativas moderadas)\n",
        "df_relevantes = df_corr[df_corr['Tipo'] != 'Relación débil / casi nula']\n",
        "\n",
        "# Mostrar tabla filtrada\n",
        "print(\"Variables más relevantes con Addiction_Level:\\n\")\n",
        "print(df_relevantes)\n",
        "\n",
        "# Gráfico de barras filtrado\n",
        "plt.figure(figsize=(8,5))\n",
        "sns.barplot(data=df_relevantes, x='Correlacion', y='Variable', hue='Tipo', dodge=False, palette='Set2')\n",
        "plt.title('Variables más relevantes relacionadas con el Nivel de Adicción autopercibida.')\n",
        "plt.xlabel('Correlación con Addiction_Level')\n",
        "plt.ylabel('Variable')\n",
        "plt.legend(title='Tipo de relación')\n",
        "plt.show()\n"
      ],
      "metadata": {
        "id": "SgqRy3Pm81yo"
      },
      "execution_count": null,
      "outputs": []
    },
    {
      "cell_type": "markdown",
      "source": [
        "**Preparando los datos para el análisis ANOVA**\n",
        "\n",
        "Segmentacion segun edad\n",
        "\n",
        "Para continuar con el analisis del dataset, se decide segmantar en tres grupos los datos segun rango etario descripto a contuación:\n",
        "\n",
        "'Adolescencia Temprana': 12 y 14 años\n",
        "'Adolescencia Media': 15 y 16 años\n",
        "'Adolescencia Alta': 17, 18 y 19 años"
      ],
      "metadata": {
        "id": "LDsuB6Ebc9EW"
      }
    },
    {
      "cell_type": "code",
      "source": [
        "# 1. Definir los límites de los rangos (bins) y las etiquetas\n",
        "bins = [12, 14, 16, 19]\n",
        "labels = ['Adolescencia Temprana', 'Adolescencia Media', 'Adolescencia Alta']\n",
        "\n",
        "# 2. Usar pd.cut() para crear la nueva columna 'Age_Group'\n",
        "# 'right=True' (valor predeterminado) significa que el límite superior del bin se incluye.\n",
        "# Así, el bin (12, 14] incluirá el 13 y el 14.\n",
        "df['Age_Group'] = pd.cut(df['Age'], bins=bins, labels=labels, right=True)\n",
        "\n",
        "# 3. Verificar el resultado\n",
        "print(df[['Age', 'Age_Group']].head())\n",
        "print(\"\\nConteo de participantes por grupo de edad:\")\n",
        "print(df['Age_Group'].value_counts())"
      ],
      "metadata": {
        "id": "KjWqhTN-tC4r"
      },
      "execution_count": null,
      "outputs": []
    },
    {
      "cell_type": "markdown",
      "source": [
        "**Anova:** se analiza el nivel de adicción autopercibido en diferentes grupos etarios: adolescencia temprana, media y alta. Se busca saber si la media del nivel de adicción es similar en los tres grupos o si es diferente en al menos un grupo."
      ],
      "metadata": {
        "id": "jeKC174spYBz"
      }
    },
    {
      "cell_type": "code",
      "source": [
        "from scipy import stats\n",
        "import statsmodels.api as sm\n",
        "from statsmodels.formula.api import ols\n",
        "\n",
        "# Asume que tu DataFrame 'df' ya está cargado y que la columna 'Age_Group' ya fue creada.\n",
        "\n",
        "# 1. Realizar la prueba ANOVA usando statsmodels\n",
        "# 'C(Age_Group)' le dice a statsmodels que la variable es categórica.\n",
        "modelo_anova = ols('Addiction_Level ~ C(Age_Group)', data=df).fit()\n",
        "\n",
        "# Imprimir el resumen de la tabla ANOVA\n",
        "tabla_anova = sm.stats.anova_lm(modelo_anova, typ=2)\n",
        "print(\"### Resultados de la Prueba ANOVA ###\")\n",
        "print(tabla_anova)\n",
        "\n",
        "# 2. Interpretación\n",
        "# Si el p-valor (columna 'PR(>F)') es menor que 0.05,\n",
        "# hay una diferencia significativa entre al menos un par de grupos.\n",
        "try:\n",
        "    p_valor_anova = tabla_anova['PR(>F)'].iloc[0]\n",
        "    if p_valor_anova < 0.05:\n",
        "        print(\"\\nEl p-valor es menor que 0.05, por lo que existen diferencias significativas en el nivel de adicción entre al menos un par de grupos de edad.\")\n",
        "    else:\n",
        "        print(\"\\nEl p-valor no es significativo. No hay una diferencia significativa en el nivel de adicción entre los grupos de edad.\")\n",
        "except IndexError:\n",
        "    print(\"\\nNo se pudo obtener el p-valor. Verifica que la tabla ANOVA se haya generado correctamente.\")\n"
      ],
      "metadata": {
        "id": "AAfhp7hVpD3A"
      },
      "execution_count": null,
      "outputs": []
    },
    {
      "cell_type": "markdown",
      "source": [
        "**Interpretación de ANOVA por grupo etario:** la investigación no encontró evidencia de que el nivel autopercibido de adicción al teléfono varíe de manera considerable entre la adolescencia temprana, media y alta. Esto sugiere que el factor de la edad, dentro de estos rangos, no influye de manera determinante en el nivel de adicción autopercibido."
      ],
      "metadata": {
        "id": "-3lnTP0xqVX9"
      }
    }
  ]
}